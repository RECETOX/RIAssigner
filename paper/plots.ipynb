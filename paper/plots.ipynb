{
 "cells": [
  {
   "cell_type": "code",
   "execution_count": 1,
   "metadata": {},
   "outputs": [],
   "source": [
    "from matchms.importing import load_from_msp\n",
    "from RIAssigner.data import PandasData, MatchMSData\n",
    "from RIAssigner.compute import CubicSpline\n",
    "import matplotlib.pyplot as plt\n",
    "import plotly.express as px\n",
    "import plotly.graph_objects as go\n",
    "from matchms.importing import load_from_msp, load_from_mgf\n",
    "from matchms.filtering import add_precursor_mz, add_retention_index, add_retention_time\n",
    "from matchms.exporting import save_as_msp\n",
    "import pandas\n",
    "from scipy.interpolate import CubicSpline as Model\n",
    "\n"
   ]
  },
  {
   "cell_type": "code",
   "execution_count": 2,
   "metadata": {},
   "outputs": [],
   "source": [
    "spectra = list(load_from_msp(\"..\\\\tests\\\\data\\\\msp\\\\recetox_gc-ei_ms_20201028.msp\"))"
   ]
  },
  {
   "cell_type": "code",
   "execution_count": 3,
   "metadata": {},
   "outputs": [],
   "source": [
    "ref = PandasData(\"..\\\\tests\\\\data\\\\csv\\\\Alkanes_20210325.csv\", \"csv\", \"min\")\n",
    "cols = ref._data.columns\n",
    "labels = ref._data.loc[:,cols[0]].tolist()"
   ]
  },
  {
   "cell_type": "code",
   "execution_count": 4,
   "metadata": {},
   "outputs": [
    {
     "data": {
      "image/png": "[encoded data removed]",
      "text/plain": [
       "<Figure size 432x288 with 1 Axes>"
      ]
     },
     "metadata": {
      "needs_background": "light"
     },
     "output_type": "display_data"
    }
   ],
   "source": [
    "fig, ax = plt.subplots()\n",
    "ax.plot(ref.retention_times, ref.retention_indices, '-o', data=labels)\n",
    "ax.set(xlabel='retention time (s)', ylabel='retention index', title='Reference Alkanes')\n",
    "ax.grid()\n",
    "plt.show()"
   ]
  },
  {
   "cell_type": "code",
   "execution_count": 7,
   "metadata": {},
   "outputs": [
    {
     "data": {
      "application/vnd.plotly.v1+json": {
       "config": {
        "plotlyServerURL": "https://plot.ly"
       },
       "data": [
        {
         "hovertemplate": "RT=%{x}<br>retention_index=%{y}<br>﻿Compound_Name=%{text}<extra></extra>",
         "legendgroup": "",
         "marker": {
          "color": "#636efa",
          "symbol": "circle"
         },
         "mode": "markers+text",
         "name": "",
         "orientation": "v",
         "showlegend": false,
         "text": [
          "Undecane",
          "Dodecane",
          "Tridecane",
          "Tetradecane",
          "Pentadecane",
          "Hexadecane",
          "Heptadecane",
          "Octadecane",
          "Nonadecane",
          "Eicosane",
          "Uncosane",
          "Docosane",
          "Tricosane",
          "Tetracosane",
          "Pentacosane",
          "Hexacosane",
          "Heptacosane",
          "Octacosane",
          "Nonacosane",
          "Triacontane",
          "Untriacontane",
          "Dotriacontane",
          "Tritriacontane",
          "Tetrtriacontane",
          "Pentatriacontane",
          "Hexatricontane",
          "Heptatriacontane",
          "Octatriacontane",
          "Nonatriacontane",
          "Tetracontane"
         ],
         "textposition": "bottom right",
         "type": "scatter",
         "x": [
          2.08,
          2.43,
          2.75,
          3.08,
          3.4,
          3.71,
          4.09,
          4.48,
          4.8,
          5.12,
          5.42,
          5.69,
          5.99,
          6.29,
          6.56,
          6.8,
          7.01,
          7.2,
          7.37,
          7.55,
          7.72,
          7.91,
          8.12,
          8.35,
          8.62,
          8.92,
          9.27,
          9.67,
          10.15,
          10.71
         ],
         "xaxis": "x",
         "y": [
          1100,
          1200,
          1300,
          1400,
          1500,
          1600,
          1700,
          1800,
          1900,
          2000,
          2100,
          2200,
          2300,
          2400,
          2500,
          2600,
          2700,
          2800,
          2900,
          3000,
          3100,
          3200,
          3300,
          3400,
          3500,
          3600,
          3700,
          3800,
          3900,
          4000
         ],
         "yaxis": "y"
        }
       ],
       "layout": {
        "height": 800,
        "legend": {
         "tracegroupgap": 0
        },
        "margin": {
         "t": 60
        },
        "template": {
         "data": {
          "bar": [
           {
            "error_x": {
             "color": "#2a3f5f"
            },
            "error_y": {
             "color": "#2a3f5f"
            },
            "marker": {
             "line": {
              "color": "#E5ECF6",
              "width": 0.5
             },
             "pattern": {
              "fillmode": "overlay",
              "size": 10,
              "solidity": 0.2
             }
            },
            "type": "bar"
           }
          ],
          "barpolar": [
           {
            "marker": {
             "line": {
              "color": "#E5ECF6",
              "width": 0.5
             },
             "pattern": {
              "fillmode": "overlay",
              "size": 10,
              "solidity": 0.2
             }
            },
            "type": "barpolar"
           }
          ],
          "carpet": [
           {
            "aaxis": {
             "endlinecolor": "#2a3f5f",
             "gridcolor": "white",
             "linecolor": "white",
             "minorgridcolor": "white",
             "startlinecolor": "#2a3f5f"
            },
            "baxis": {
             "endlinecolor": "#2a3f5f",
             "gridcolor": "white",
             "linecolor": "white",
             "minorgridcolor": "white",
             "startlinecolor": "#2a3f5f"
            },
            "type": "carpet"
           }
          ],
          "choropleth": [
           {
            "colorbar": {
             "outlinewidth": 0,
             "ticks": ""
            },
            "type": "choropleth"
           }
          ],
          "contour": [
           {
            "colorbar": {
             "outlinewidth": 0,
             "ticks": ""
            },
            "colorscale": [
             [
              0,
              "#0d0887"
             ],
             [
              0.1111111111111111,
              "#46039f"
             ],
             [
              0.2222222222222222,
              "#7201a8"
             ],
             [
              0.3333333333333333,
              "#9c179e"
             ],
             [
              0.4444444444444444,
              "#bd3786"
             ],
             [
              0.5555555555555556,
              "#d8576b"
             ],
             [
              0.6666666666666666,
              "#ed7953"
             ],
             [
              0.7777777777777778,
              "#fb9f3a"
             ],
             [
              0.8888888888888888,
              "#fdca26"
             ],
             [
              1,
              "#f0f921"
             ]
            ],
            "type": "contour"
           }
          ],
          "contourcarpet": [
           {
            "colorbar": {
             "outlinewidth": 0,
             "ticks": ""
            },
            "type": "contourcarpet"
           }
          ],
          "heatmap": [
           {
            "colorbar": {
             "outlinewidth": 0,
             "ticks": ""
            },
            "colorscale": [
             [
              0,
              "#0d0887"
             ],
             [
              0.1111111111111111,
              "#46039f"
             ],
             [
              0.2222222222222222,
              "#7201a8"
             ],
             [
              0.3333333333333333,
              "#9c179e"
             ],
             [
              0.4444444444444444,
              "#bd3786"
             ],
             [
              0.5555555555555556,
              "#d8576b"
             ],
             [
              0.6666666666666666,
              "#ed7953"
             ],
             [
              0.7777777777777778,
              "#fb9f3a"
             ],
             [
              0.8888888888888888,
              "#fdca26"
             ],
             [
              1,
              "#f0f921"
             ]
            ],
            "type": "heatmap"
           }
          ],
          "heatmapgl": [
           {
            "colorbar": {
             "outlinewidth": 0,
             "ticks": ""
            },
            "colorscale": [
             [
              0,
              "#0d0887"
             ],
             [
              0.1111111111111111,
              "#46039f"
             ],
             [
              0.2222222222222222,
              "#7201a8"
             ],
             [
              0.3333333333333333,
              "#9c179e"
             ],
             [
              0.4444444444444444,
              "#bd3786"
             ],
             [
              0.5555555555555556,
              "#d8576b"
             ],
             [
              0.6666666666666666,
              "#ed7953"
             ],
             [
              0.7777777777777778,
              "#fb9f3a"
             ],
             [
              0.8888888888888888,
              "#fdca26"
             ],
             [
              1,
              "#f0f921"
             ]
            ],
            "type": "heatmapgl"
           }
          ],
          "histogram": [
           {
            "marker": {
             "pattern": {
              "fillmode": "overlay",
              "size": 10,
              "solidity": 0.2
             }
            },
            "type": "histogram"
           }
          ],
          "histogram2d": [
           {
            "colorbar": {
             "outlinewidth": 0,
             "ticks": ""
            },
            "colorscale": [
             [
              0,
              "#0d0887"
             ],
             [
              0.1111111111111111,
              "#46039f"
             ],
             [
              0.2222222222222222,
              "#7201a8"
             ],
             [
              0.3333333333333333,
              "#9c179e"
             ],
             [
              0.4444444444444444,
              "#bd3786"
             ],
             [
              0.5555555555555556,
              "#d8576b"
             ],
             [
              0.6666666666666666,
              "#ed7953"
             ],
             [
              0.7777777777777778,
              "#fb9f3a"
             ],
             [
              0.8888888888888888,
              "#fdca26"
             ],
             [
              1,
              "#f0f921"
             ]
            ],
            "type": "histogram2d"
           }
          ],
          "histogram2dcontour": [
           {
            "colorbar": {
             "outlinewidth": 0,
             "ticks": ""
            },
            "colorscale": [
             [
              0,
              "#0d0887"
             ],
             [
              0.1111111111111111,
              "#46039f"
             ],
             [
              0.2222222222222222,
              "#7201a8"
             ],
             [
              0.3333333333333333,
              "#9c179e"
             ],
             [
              0.4444444444444444,
              "#bd3786"
             ],
             [
              0.5555555555555556,
              "#d8576b"
             ],
             [
              0.6666666666666666,
              "#ed7953"
             ],
             [
              0.7777777777777778,
              "#fb9f3a"
             ],
             [
              0.8888888888888888,
              "#fdca26"
             ],
             [
              1,
              "#f0f921"
             ]
            ],
            "type": "histogram2dcontour"
           }
          ],
          "mesh3d": [
           {
            "colorbar": {
             "outlinewidth": 0,
             "ticks": ""
            },
            "type": "mesh3d"
           }
          ],
          "parcoords": [
           {
            "line": {
             "colorbar": {
              "outlinewidth": 0,
              "ticks": ""
             }
            },
            "type": "parcoords"
           }
          ],
          "pie": [
           {
            "automargin": true,
            "type": "pie"
           }
          ],
          "scatter": [
           {
            "marker": {
             "colorbar": {
              "outlinewidth": 0,
              "ticks": ""
             }
            },
            "type": "scatter"
           }
          ],
          "scatter3d": [
           {
            "line": {
             "colorbar": {
              "outlinewidth": 0,
              "ticks": ""
             }
            },
            "marker": {
             "colorbar": {
              "outlinewidth": 0,
              "ticks": ""
             }
            },
            "type": "scatter3d"
           }
          ],
          "scattercarpet": [
           {
            "marker": {
             "colorbar": {
              "outlinewidth": 0,
              "ticks": ""
             }
            },
            "type": "scattercarpet"
           }
          ],
          "scattergeo": [
           {
            "marker": {
             "colorbar": {
              "outlinewidth": 0,
              "ticks": ""
             }
            },
            "type": "scattergeo"
           }
          ],
          "scattergl": [
           {
            "marker": {
             "colorbar": {
              "outlinewidth": 0,
              "ticks": ""
             }
            },
            "type": "scattergl"
           }
          ],
          "scattermapbox": [
           {
            "marker": {
             "colorbar": {
              "outlinewidth": 0,
              "ticks": ""
             }
            },
            "type": "scattermapbox"
           }
          ],
          "scatterpolar": [
           {
            "marker": {
             "colorbar": {
              "outlinewidth": 0,
              "ticks": ""
             }
            },
            "type": "scatterpolar"
           }
          ],
          "scatterpolargl": [
           {
            "marker": {
             "colorbar": {
              "outlinewidth": 0,
              "ticks": ""
             }
            },
            "type": "scatterpolargl"
           }
          ],
          "scatterternary": [
           {
            "marker": {
             "colorbar": {
              "outlinewidth": 0,
              "ticks": ""
             }
            },
            "type": "scatterternary"
           }
          ],
          "surface": [
           {
            "colorbar": {
             "outlinewidth": 0,
             "ticks": ""
            },
            "colorscale": [
             [
              0,
              "#0d0887"
             ],
             [
              0.1111111111111111,
              "#46039f"
             ],
             [
              0.2222222222222222,
              "#7201a8"
             ],
             [
              0.3333333333333333,
              "#9c179e"
             ],
             [
              0.4444444444444444,
              "#bd3786"
             ],
             [
              0.5555555555555556,
              "#d8576b"
             ],
             [
              0.6666666666666666,
              "#ed7953"
             ],
             [
              0.7777777777777778,
              "#fb9f3a"
             ],
             [
              0.8888888888888888,
              "#fdca26"
             ],
             [
              1,
              "#f0f921"
             ]
            ],
            "type": "surface"
           }
          ],
          "table": [
           {
            "cells": {
             "fill": {
              "color": "#EBF0F8"
             },
             "line": {
              "color": "white"
             }
            },
            "header": {
             "fill": {
              "color": "#C8D4E3"
             },
             "line": {
              "color": "white"
             }
            },
            "type": "table"
           }
          ]
         },
         "layout": {
          "annotationdefaults": {
           "arrowcolor": "#2a3f5f",
           "arrowhead": 0,
           "arrowwidth": 1
          },
          "autotypenumbers": "strict",
          "coloraxis": {
           "colorbar": {
            "outlinewidth": 0,
            "ticks": ""
           }
          },
          "colorscale": {
           "diverging": [
            [
             0,
             "#8e0152"
            ],
            [
             0.1,
             "#c51b7d"
            ],
            [
             0.2,
             "#de77ae"
            ],
            [
             0.3,
             "#f1b6da"
            ],
            [
             0.4,
             "#fde0ef"
            ],
            [
             0.5,
             "#f7f7f7"
            ],
            [
             0.6,
             "#e6f5d0"
            ],
            [
             0.7,
             "#b8e186"
            ],
            [
             0.8,
             "#7fbc41"
            ],
            [
             0.9,
             "#4d9221"
            ],
            [
             1,
             "#276419"
            ]
           ],
           "sequential": [
            [
             0,
             "#0d0887"
            ],
            [
             0.1111111111111111,
             "#46039f"
            ],
            [
             0.2222222222222222,
             "#7201a8"
            ],
            [
             0.3333333333333333,
             "#9c179e"
            ],
            [
             0.4444444444444444,
             "#bd3786"
            ],
            [
             0.5555555555555556,
             "#d8576b"
            ],
            [
             0.6666666666666666,
             "#ed7953"
            ],
            [
             0.7777777777777778,
             "#fb9f3a"
            ],
            [
             0.8888888888888888,
             "#fdca26"
            ],
            [
             1,
             "#f0f921"
            ]
           ],
           "sequentialminus": [
            [
             0,
             "#0d0887"
            ],
            [
             0.1111111111111111,
             "#46039f"
            ],
            [
             0.2222222222222222,
             "#7201a8"
            ],
            [
             0.3333333333333333,
             "#9c179e"
            ],
            [
             0.4444444444444444,
             "#bd3786"
            ],
            [
             0.5555555555555556,
             "#d8576b"
            ],
            [
             0.6666666666666666,
             "#ed7953"
            ],
            [
             0.7777777777777778,
             "#fb9f3a"
            ],
            [
             0.8888888888888888,
             "#fdca26"
            ],
            [
             1,
             "#f0f921"
            ]
           ]
          },
          "colorway": [
           "#636efa",
           "#EF553B",
           "#00cc96",
           "#ab63fa",
           "#FFA15A",
           "#19d3f3",
           "#FF6692",
           "#B6E880",
           "#FF97FF",
           "#FECB52"
          ],
          "font": {
           "color": "#2a3f5f"
          },
          "geo": {
           "bgcolor": "white",
           "lakecolor": "white",
           "landcolor": "#E5ECF6",
           "showlakes": true,
           "showland": true,
           "subunitcolor": "white"
          },
          "hoverlabel": {
           "align": "left"
          },
          "hovermode": "closest",
          "mapbox": {
           "style": "light"
          },
          "paper_bgcolor": "white",
          "plot_bgcolor": "#E5ECF6",
          "polar": {
           "angularaxis": {
            "gridcolor": "white",
            "linecolor": "white",
            "ticks": ""
           },
           "bgcolor": "#E5ECF6",
           "radialaxis": {
            "gridcolor": "white",
            "linecolor": "white",
            "ticks": ""
           }
          },
          "scene": {
           "xaxis": {
            "backgroundcolor": "#E5ECF6",
            "gridcolor": "white",
            "gridwidth": 2,
            "linecolor": "white",
            "showbackground": true,
            "ticks": "",
            "zerolinecolor": "white"
           },
           "yaxis": {
            "backgroundcolor": "#E5ECF6",
            "gridcolor": "white",
            "gridwidth": 2,
            "linecolor": "white",
            "showbackground": true,
            "ticks": "",
            "zerolinecolor": "white"
           },
           "zaxis": {
            "backgroundcolor": "#E5ECF6",
            "gridcolor": "white",
            "gridwidth": 2,
            "linecolor": "white",
            "showbackground": true,
            "ticks": "",
            "zerolinecolor": "white"
           }
          },
          "shapedefaults": {
           "line": {
            "color": "#2a3f5f"
           }
          },
          "ternary": {
           "aaxis": {
            "gridcolor": "white",
            "linecolor": "white",
            "ticks": ""
           },
           "baxis": {
            "gridcolor": "white",
            "linecolor": "white",
            "ticks": ""
           },
           "bgcolor": "#E5ECF6",
           "caxis": {
            "gridcolor": "white",
            "linecolor": "white",
            "ticks": ""
           }
          },
          "title": {
           "x": 0.05
          },
          "xaxis": {
           "automargin": true,
           "gridcolor": "white",
           "linecolor": "white",
           "ticks": "",
           "title": {
            "standoff": 15
           },
           "zerolinecolor": "white",
           "zerolinewidth": 2
          },
          "yaxis": {
           "automargin": true,
           "gridcolor": "white",
           "linecolor": "white",
           "ticks": "",
           "title": {
            "standoff": 15
           },
           "zerolinecolor": "white",
           "zerolinewidth": 2
          }
         }
        },
        "width": 800,
        "xaxis": {
         "anchor": "y",
         "domain": [
          0,
          1
         ],
         "title": {
          "text": "RT"
         }
        },
        "yaxis": {
         "anchor": "x",
         "domain": [
          0,
          1
         ],
         "title": {
          "text": "retention_index"
         }
        }
       }
      }
     },
     "metadata": {},
     "output_type": "display_data"
    }
   ],
   "source": [
    "alkanes_data = ref._data\n",
    "fig = px.scatter(alkanes_data, x=\"RT\", y=\"retention_index\", text=alkanes_data[alkanes_data.columns[0]], width = 800, height = 800)\n",
    "fig.update_traces(textposition=\"bottom right\")\n",
    "\n",
    "fig.show()"
   ]
  },
  {
   "cell_type": "code",
   "execution_count": 11,
   "metadata": {},
   "outputs": [],
   "source": [
    "library = list(load_from_msp(\"..\\\\tests\\\\data\\\\msp\\\\recetox_gc-ei_ms_20201028.msp\"))\n",
    "filtered_spectra = [add_retention_index(x) for x in library]\n",
    "filtered_spectra = [add_precursor_mz(x) for x in filtered_spectra]\n",
    "spectra_metadata = [x.metadata for x in filtered_spectra][20:50]\n",
    "data = pandas.DataFrame(spectra_metadata)"
   ]
  },
  {
   "cell_type": "code",
   "execution_count": 12,
   "metadata": {},
   "outputs": [
    {
     "data": {
      "application/vnd.plotly.v1+json": {
       "config": {
        "plotlyServerURL": "https://plot.ly"
       },
       "data": [
        {
         "hovertemplate": "retention_index=%{x}<br>precursor_mz=%{y}<br>name=%{text}<extra></extra>",
         "legendgroup": "",
         "marker": {
          "color": "#636efa",
          "symbol": "circle"
         },
         "mode": "markers+text",
         "name": "",
         "orientation": "v",
         "showlegend": false,
         "text": [
          "Indeno[1,2,3-cd]pyrene",
          "Benzo(g,h,i)perylene",
          "Anthanthrene",
          "Dibenzanthracene",
          "Coronene",
          "Dicofol",
          "Benzophenone",
          "2-tert-Butyl-4-methoxyphenol",
          "Butylated hydroxytoluene",
          "Bumetrizole",
          "4-Methylbenzophenone",
          "2,4,6-Tribromophenol",
          "2,6-Dichloro-4-nitroaniline",
          "1-Methylphenanthrene",
          "Triclosan",
          "Drometrizole",
          "Enzacamene",
          "2,4-Di-tert-butyl-6-(5-chloro-2H-benzotriazol-2-yl)phenol",
          "Octrizole",
          "1,2,7,9-Tetrachlorodibenzofuran",
          "2,2',3,4,5,5',6-Heptachlorobiphenyl",
          "2,4,6-Trichlorobiphenyl",
          "2,2',3,3',4,5',6,6'-Octachlorobiphenyl",
          "Mirex",
          "beta-Hexachlorocyclohexane",
          "alpha-1,2,3,4,5,6-Hexachlorocyclohexane",
          "Lindane",
          "delta-Hexachlorocyclohexane",
          "epsilon-Hexachlorocyclohexane",
          "Pentachlorobenzene"
         ],
         "textposition": "bottom right",
         "type": "scatter",
         "x": [
          3177,
          3243.5,
          3283.5,
          3190.5,
          3652.6,
          2379.7,
          1659.6,
          1497.8,
          1516.1,
          2541.5,
          1786.6,
          1677.9,
          1755.7,
          1967.3,
          2122.8,
          2085.6,
          2079,
          2652.8,
          2571.9,
          2336.9,
          2425.2,
          1796.7,
          2473,
          2586.7,
          1775.6,
          1732.4,
          1798,
          1842.6,
          1865.9,
          1554.6
         ],
         "xaxis": "x",
         "y": [
          276.09332,
          276.09338,
          276.09341,
          278.10898,
          300.09329,
          360.62118,
          182.07237,
          180.11436,
          220.18211,
          315.1131,
          196.08788,
          327.77258,
          205.96413,
          192.09314,
          287.95074,
          225.0898,
          254.16666,
          357.16022,
          323.19928,
          303.90103,
          391.80484,
          255.96082,
          425.76611,
          512.64551,
          271.0274,
          281.05096,
          281.05078,
          281.05093,
          281.05087,
          247.85138
         ],
         "yaxis": "y"
        }
       ],
       "layout": {
        "legend": {
         "tracegroupgap": 0
        },
        "margin": {
         "t": 60
        },
        "template": {
         "data": {
          "bar": [
           {
            "error_x": {
             "color": "#2a3f5f"
            },
            "error_y": {
             "color": "#2a3f5f"
            },
            "marker": {
             "line": {
              "color": "#E5ECF6",
              "width": 0.5
             },
             "pattern": {
              "fillmode": "overlay",
              "size": 10,
              "solidity": 0.2
             }
            },
            "type": "bar"
           }
          ],
          "barpolar": [
           {
            "marker": {
             "line": {
              "color": "#E5ECF6",
              "width": 0.5
             },
             "pattern": {
              "fillmode": "overlay",
              "size": 10,
              "solidity": 0.2
             }
            },
            "type": "barpolar"
           }
          ],
          "carpet": [
           {
            "aaxis": {
             "endlinecolor": "#2a3f5f",
             "gridcolor": "white",
             "linecolor": "white",
             "minorgridcolor": "white",
             "startlinecolor": "#2a3f5f"
            },
            "baxis": {
             "endlinecolor": "#2a3f5f",
             "gridcolor": "white",
             "linecolor": "white",
             "minorgridcolor": "white",
             "startlinecolor": "#2a3f5f"
            },
            "type": "carpet"
           }
          ],
          "choropleth": [
           {
            "colorbar": {
             "outlinewidth": 0,
             "ticks": ""
            },
            "type": "choropleth"
           }
          ],
          "contour": [
           {
            "colorbar": {
             "outlinewidth": 0,
             "ticks": ""
            },
            "colorscale": [
             [
              0,
              "#0d0887"
             ],
             [
              0.1111111111111111,
              "#46039f"
             ],
             [
              0.2222222222222222,
              "#7201a8"
             ],
             [
              0.3333333333333333,
              "#9c179e"
             ],
             [
              0.4444444444444444,
              "#bd3786"
             ],
             [
              0.5555555555555556,
              "#d8576b"
             ],
             [
              0.6666666666666666,
              "#ed7953"
             ],
             [
              0.7777777777777778,
              "#fb9f3a"
             ],
             [
              0.8888888888888888,
              "#fdca26"
             ],
             [
              1,
              "#f0f921"
             ]
            ],
            "type": "contour"
           }
          ],
          "contourcarpet": [
           {
            "colorbar": {
             "outlinewidth": 0,
             "ticks": ""
            },
            "type": "contourcarpet"
           }
          ],
          "heatmap": [
           {
            "colorbar": {
             "outlinewidth": 0,
             "ticks": ""
            },
            "colorscale": [
             [
              0,
              "#0d0887"
             ],
             [
              0.1111111111111111,
              "#46039f"
             ],
             [
              0.2222222222222222,
              "#7201a8"
             ],
             [
              0.3333333333333333,
              "#9c179e"
             ],
             [
              0.4444444444444444,
              "#bd3786"
             ],
             [
              0.5555555555555556,
              "#d8576b"
             ],
             [
              0.6666666666666666,
              "#ed7953"
             ],
             [
              0.7777777777777778,
              "#fb9f3a"
             ],
             [
              0.8888888888888888,
              "#fdca26"
             ],
             [
              1,
              "#f0f921"
             ]
            ],
            "type": "heatmap"
           }
          ],
          "heatmapgl": [
           {
            "colorbar": {
             "outlinewidth": 0,
             "ticks": ""
            },
            "colorscale": [
             [
              0,
              "#0d0887"
             ],
             [
              0.1111111111111111,
              "#46039f"
             ],
             [
              0.2222222222222222,
              "#7201a8"
             ],
             [
              0.3333333333333333,
              "#9c179e"
             ],
             [
              0.4444444444444444,
              "#bd3786"
             ],
             [
              0.5555555555555556,
              "#d8576b"
             ],
             [
              0.6666666666666666,
              "#ed7953"
             ],
             [
              0.7777777777777778,
              "#fb9f3a"
             ],
             [
              0.8888888888888888,
              "#fdca26"
             ],
             [
              1,
              "#f0f921"
             ]
            ],
            "type": "heatmapgl"
           }
          ],
          "histogram": [
           {
            "marker": {
             "pattern": {
              "fillmode": "overlay",
              "size": 10,
              "solidity": 0.2
             }
            },
            "type": "histogram"
           }
          ],
          "histogram2d": [
           {
            "colorbar": {
             "outlinewidth": 0,
             "ticks": ""
            },
            "colorscale": [
             [
              0,
              "#0d0887"
             ],
             [
              0.1111111111111111,
              "#46039f"
             ],
             [
              0.2222222222222222,
              "#7201a8"
             ],
             [
              0.3333333333333333,
              "#9c179e"
             ],
             [
              0.4444444444444444,
              "#bd3786"
             ],
             [
              0.5555555555555556,
              "#d8576b"
             ],
             [
              0.6666666666666666,
              "#ed7953"
             ],
             [
              0.7777777777777778,
              "#fb9f3a"
             ],
             [
              0.8888888888888888,
              "#fdca26"
             ],
             [
              1,
              "#f0f921"
             ]
            ],
            "type": "histogram2d"
           }
          ],
          "histogram2dcontour": [
           {
            "colorbar": {
             "outlinewidth": 0,
             "ticks": ""
            },
            "colorscale": [
             [
              0,
              "#0d0887"
             ],
             [
              0.1111111111111111,
              "#46039f"
             ],
             [
              0.2222222222222222,
              "#7201a8"
             ],
             [
              0.3333333333333333,
              "#9c179e"
             ],
             [
              0.4444444444444444,
              "#bd3786"
             ],
             [
              0.5555555555555556,
              "#d8576b"
             ],
             [
              0.6666666666666666,
              "#ed7953"
             ],
             [
              0.7777777777777778,
              "#fb9f3a"
             ],
             [
              0.8888888888888888,
              "#fdca26"
             ],
             [
              1,
              "#f0f921"
             ]
            ],
            "type": "histogram2dcontour"
           }
          ],
          "mesh3d": [
           {
            "colorbar": {
             "outlinewidth": 0,
             "ticks": ""
            },
            "type": "mesh3d"
           }
          ],
          "parcoords": [
           {
            "line": {
             "colorbar": {
              "outlinewidth": 0,
              "ticks": ""
             }
            },
            "type": "parcoords"
           }
          ],
          "pie": [
           {
            "automargin": true,
            "type": "pie"
           }
          ],
          "scatter": [
           {
            "marker": {
             "colorbar": {
              "outlinewidth": 0,
              "ticks": ""
             }
            },
            "type": "scatter"
           }
          ],
          "scatter3d": [
           {
            "line": {
             "colorbar": {
              "outlinewidth": 0,
              "ticks": ""
             }
            },
            "marker": {
             "colorbar": {
              "outlinewidth": 0,
              "ticks": ""
             }
            },
            "type": "scatter3d"
           }
          ],
          "scattercarpet": [
           {
            "marker": {
             "colorbar": {
              "outlinewidth": 0,
              "ticks": ""
             }
            },
            "type": "scattercarpet"
           }
          ],
          "scattergeo": [
           {
            "marker": {
             "colorbar": {
              "outlinewidth": 0,
              "ticks": ""
             }
            },
            "type": "scattergeo"
           }
          ],
          "scattergl": [
           {
            "marker": {
             "colorbar": {
              "outlinewidth": 0,
              "ticks": ""
             }
            },
            "type": "scattergl"
           }
          ],
          "scattermapbox": [
           {
            "marker": {
             "colorbar": {
              "outlinewidth": 0,
              "ticks": ""
             }
            },
            "type": "scattermapbox"
           }
          ],
          "scatterpolar": [
           {
            "marker": {
             "colorbar": {
              "outlinewidth": 0,
              "ticks": ""
             }
            },
            "type": "scatterpolar"
           }
          ],
          "scatterpolargl": [
           {
            "marker": {
             "colorbar": {
              "outlinewidth": 0,
              "ticks": ""
             }
            },
            "type": "scatterpolargl"
           }
          ],
          "scatterternary": [
           {
            "marker": {
             "colorbar": {
              "outlinewidth": 0,
              "ticks": ""
             }
            },
            "type": "scatterternary"
           }
          ],
          "surface": [
           {
            "colorbar": {
             "outlinewidth": 0,
             "ticks": ""
            },
            "colorscale": [
             [
              0,
              "#0d0887"
             ],
             [
              0.1111111111111111,
              "#46039f"
             ],
             [
              0.2222222222222222,
              "#7201a8"
             ],
             [
              0.3333333333333333,
              "#9c179e"
             ],
             [
              0.4444444444444444,
              "#bd3786"
             ],
             [
              0.5555555555555556,
              "#d8576b"
             ],
             [
              0.6666666666666666,
              "#ed7953"
             ],
             [
              0.7777777777777778,
              "#fb9f3a"
             ],
             [
              0.8888888888888888,
              "#fdca26"
             ],
             [
              1,
              "#f0f921"
             ]
            ],
            "type": "surface"
           }
          ],
          "table": [
           {
            "cells": {
             "fill": {
              "color": "#EBF0F8"
             },
             "line": {
              "color": "white"
             }
            },
            "header": {
             "fill": {
              "color": "#C8D4E3"
             },
             "line": {
              "color": "white"
             }
            },
            "type": "table"
           }
          ]
         },
         "layout": {
          "annotationdefaults": {
           "arrowcolor": "#2a3f5f",
           "arrowhead": 0,
           "arrowwidth": 1
          },
          "autotypenumbers": "strict",
          "coloraxis": {
           "colorbar": {
            "outlinewidth": 0,
            "ticks": ""
           }
          },
          "colorscale": {
           "diverging": [
            [
             0,
             "#8e0152"
            ],
            [
             0.1,
             "#c51b7d"
            ],
            [
             0.2,
             "#de77ae"
            ],
            [
             0.3,
             "#f1b6da"
            ],
            [
             0.4,
             "#fde0ef"
            ],
            [
             0.5,
             "#f7f7f7"
            ],
            [
             0.6,
             "#e6f5d0"
            ],
            [
             0.7,
             "#b8e186"
            ],
            [
             0.8,
             "#7fbc41"
            ],
            [
             0.9,
             "#4d9221"
            ],
            [
             1,
             "#276419"
            ]
           ],
           "sequential": [
            [
             0,
             "#0d0887"
            ],
            [
             0.1111111111111111,
             "#46039f"
            ],
            [
             0.2222222222222222,
             "#7201a8"
            ],
            [
             0.3333333333333333,
             "#9c179e"
            ],
            [
             0.4444444444444444,
             "#bd3786"
            ],
            [
             0.5555555555555556,
             "#d8576b"
            ],
            [
             0.6666666666666666,
             "#ed7953"
            ],
            [
             0.7777777777777778,
             "#fb9f3a"
            ],
            [
             0.8888888888888888,
             "#fdca26"
            ],
            [
             1,
             "#f0f921"
            ]
           ],
           "sequentialminus": [
            [
             0,
             "#0d0887"
            ],
            [
             0.1111111111111111,
             "#46039f"
            ],
            [
             0.2222222222222222,
             "#7201a8"
            ],
            [
             0.3333333333333333,
             "#9c179e"
            ],
            [
             0.4444444444444444,
             "#bd3786"
            ],
            [
             0.5555555555555556,
             "#d8576b"
            ],
            [
             0.6666666666666666,
             "#ed7953"
            ],
            [
             0.7777777777777778,
             "#fb9f3a"
            ],
            [
             0.8888888888888888,
             "#fdca26"
            ],
            [
             1,
             "#f0f921"
            ]
           ]
          },
          "colorway": [
           "#636efa",
           "#EF553B",
           "#00cc96",
           "#ab63fa",
           "#FFA15A",
           "#19d3f3",
           "#FF6692",
           "#B6E880",
           "#FF97FF",
           "#FECB52"
          ],
          "font": {
           "color": "#2a3f5f"
          },
          "geo": {
           "bgcolor": "white",
           "lakecolor": "white",
           "landcolor": "#E5ECF6",
           "showlakes": true,
           "showland": true,
           "subunitcolor": "white"
          },
          "hoverlabel": {
           "align": "left"
          },
          "hovermode": "closest",
          "mapbox": {
           "style": "light"
          },
          "paper_bgcolor": "white",
          "plot_bgcolor": "#E5ECF6",
          "polar": {
           "angularaxis": {
            "gridcolor": "white",
            "linecolor": "white",
            "ticks": ""
           },
           "bgcolor": "#E5ECF6",
           "radialaxis": {
            "gridcolor": "white",
            "linecolor": "white",
            "ticks": ""
           }
          },
          "scene": {
           "xaxis": {
            "backgroundcolor": "#E5ECF6",
            "gridcolor": "white",
            "gridwidth": 2,
            "linecolor": "white",
            "showbackground": true,
            "ticks": "",
            "zerolinecolor": "white"
           },
           "yaxis": {
            "backgroundcolor": "#E5ECF6",
            "gridcolor": "white",
            "gridwidth": 2,
            "linecolor": "white",
            "showbackground": true,
            "ticks": "",
            "zerolinecolor": "white"
           },
           "zaxis": {
            "backgroundcolor": "#E5ECF6",
            "gridcolor": "white",
            "gridwidth": 2,
            "linecolor": "white",
            "showbackground": true,
            "ticks": "",
            "zerolinecolor": "white"
           }
          },
          "shapedefaults": {
           "line": {
            "color": "#2a3f5f"
           }
          },
          "ternary": {
           "aaxis": {
            "gridcolor": "white",
            "linecolor": "white",
            "ticks": ""
           },
           "baxis": {
            "gridcolor": "white",
            "linecolor": "white",
            "ticks": ""
           },
           "bgcolor": "#E5ECF6",
           "caxis": {
            "gridcolor": "white",
            "linecolor": "white",
            "ticks": ""
           }
          },
          "title": {
           "x": 0.05
          },
          "xaxis": {
           "automargin": true,
           "gridcolor": "white",
           "linecolor": "white",
           "ticks": "",
           "title": {
            "standoff": 15
           },
           "zerolinecolor": "white",
           "zerolinewidth": 2
          },
          "yaxis": {
           "automargin": true,
           "gridcolor": "white",
           "linecolor": "white",
           "ticks": "",
           "title": {
            "standoff": 15
           },
           "zerolinecolor": "white",
           "zerolinewidth": 2
          }
         }
        },
        "xaxis": {
         "anchor": "y",
         "domain": [
          0,
          1
         ],
         "title": {
          "text": "retention_index"
         }
        },
        "yaxis": {
         "anchor": "x",
         "domain": [
          0,
          1
         ],
         "title": {
          "text": "precursor_mz"
         }
        }
       }
      }
     },
     "metadata": {},
     "output_type": "display_data"
    }
   ],
   "source": [
    "fig = px.scatter(data, x=\"retention_index\", y=\"precursor_mz\", text=data[\"name\"])\n",
    "fig.update_traces(textposition=\"bottom right\")\n",
    "\n",
    "\n",
    "fig.show()"
   ]
  },
  {
   "cell_type": "code",
   "execution_count": 50,
   "metadata": {},
   "outputs": [],
   "source": [
    "deconv_spectra = list(map(add_retention_time, map(add_retention_index, load_from_msp(\"data\\\\deconvoluted_spectra_v3.msp\"))))\n",
    "names = [x.get(\"name\") for x in deconv_spectra]\n",
    "annotation_table = pandas.read_csv(\"data\\\\annotations_v3.tsv\", sep = None)"
   ]
  },
  {
   "cell_type": "code",
   "execution_count": 51,
   "metadata": {},
   "outputs": [],
   "source": [
    "def find_spectrum(name, spectra):\n",
    "    for elem in spectra:\n",
    "        if elem.get(\"name\") == name:\n",
    "            return elem.clone()\n",
    "    return None\n"
   ]
  },
  {
   "cell_type": "code",
   "execution_count": 52,
   "metadata": {},
   "outputs": [
    {
     "name": "stdout",
     "output_type": "stream",
     "text": [
      "<matchms.Spectrum.Spectrum object at 0x0000023C5E6A8970>\n"
     ]
    },
    {
     "data": {
      "text/plain": [
       "1519"
      ]
     },
     "execution_count": 52,
     "metadata": {},
     "output_type": "execute_result"
    }
   ],
   "source": [
    "print(find_spectrum(\"C0006\", deconv_spectra))\n",
    "names = [x.get(\"name\") for x in deconv_spectra]\n",
    "names.index(\"C0006\")"
   ]
  },
  {
   "cell_type": "code",
   "execution_count": 53,
   "metadata": {},
   "outputs": [],
   "source": [
    "named = []\n",
    "queries = list(annotation_table[\"query\"])\n",
    "references = list(annotation_table[\"reference\"])\n",
    "tup = list(zip(queries, references))\n",
    "\n",
    "\n",
    "for q, ref in tup:\n",
    "    spectrum = find_spectrum(q, deconv_spectra)\n",
    "    if spectrum is None:\n",
    "        print(q)\n",
    "    spectrum.set(\"name\", ref)\n",
    "    spectrum.set(\"group\", \"annotation\")\n",
    "    named.append(spectrum)"
   ]
  },
  {
   "cell_type": "code",
   "execution_count": 54,
   "metadata": {},
   "outputs": [],
   "source": [
    "spectra_copy = [find_spectrum(str(x), deconv_spectra) for x in queries]"
   ]
  },
  {
   "cell_type": "code",
   "execution_count": 55,
   "metadata": {},
   "outputs": [],
   "source": [
    "metabolite_lib = list(load_from_msp(\"data\\\\metabolite_lib.msp\"))\n",
    "metabolite_lib_annotations = list(filter(lambda x: x.get(\"name\") in list(annotation_table[\"reference\"]), metabolite_lib))\n",
    "metabolite_lib_spectra = [add_retention_index(x).metadata for x in metabolite_lib_annotations]\n",
    "metabolite_lib_data = pandas.DataFrame(metabolite_lib_spectra)\n",
    "metabolite_lib_data[\"group\"] = \"library\"\n"
   ]
  },
  {
   "cell_type": "code",
   "execution_count": 56,
   "metadata": {},
   "outputs": [],
   "source": [
    "annotation_data = pandas.DataFrame([add_retention_index(x).metadata for x in named])\n",
    "annotation_data[\"group\"] = \"annotation\""
   ]
  },
  {
   "cell_type": "code",
   "execution_count": 57,
   "metadata": {},
   "outputs": [],
   "source": [
    "merged_data = pandas.concat([metabolite_lib_data, annotation_data])"
   ]
  },
  {
   "cell_type": "code",
   "execution_count": 58,
   "metadata": {},
   "outputs": [
    {
     "data": {
      "application/vnd.plotly.v1+json": {
       "config": {
        "plotlyServerURL": "https://plot.ly"
       },
       "data": [
        {
         "hovertemplate": "group=library<br>name=%{x}<br>retention_index=%{y}<extra></extra>",
         "legendgroup": "library",
         "marker": {
          "color": "#636efa",
          "symbol": "circle"
         },
         "mode": "markers",
         "name": "library",
         "orientation": "v",
         "showlegend": true,
         "type": "scatter",
         "x": [
          "Pipecolinic acid_2TMS",
          "Pipecolinic acid_1TMS",
          "Syringic acid_2TMS",
          "Guanine_3TMS",
          "Guanine_4TMS",
          "Leucine_2TMS",
          "Gallic acid_4TMS",
          "trans-Caffeic acid_3TMS",
          "cis-Caffeic acid_3TMS",
          "Acetyltyrosine_2TMS",
          "Allantoin_4TMS",
          "Allantoin_3TMS",
          "Theobromine_1TMS",
          "Glucose-6-phosphate_6TMS isomer 1",
          "Pyroglutamic acid_2TMS",
          "Glutamic acid_2TMS",
          "Succinic acid_1TMS",
          "Alanine_3TMS",
          "Alanine_2TMS",
          "Aspartic acid_3TMS isomer",
          "3-Indolepropionic acid_1TMS",
          "Gluconic acid-1,4-lactone",
          "Methylnicotinamide_1TMS",
          "Melatonin_2TMS",
          "Melatonin_1TMS",
          "Homoveratric_acid_1TMS",
          "Thymol_1TMS",
          "Isoleucine_2TMS",
          "Fructose_5TMS isomer 1",
          "Fructose_5TMS isomer 2",
          "Isocitric acid_4TMS",
          "Histidine_3TMS",
          "Histidine_4TMS",
          "3,4-Dihydroxybenzeneacetic acid_3TMS",
          "Indole-3-acetamide_3TMS",
          "Tetradecanedioic acid_2TMS",
          "Deoxycholic acid_3TMS",
          "Phosphoserine_4TMS",
          "Pyroglutamic acid_2TMS",
          "Acetylaspartic acid_3TMS",
          "Taurine_3TMS",
          "Citric acid_4TMS",
          "Orotic acid_3TMS",
          "Arginine_3TMS",
          "Maltotriose_11TMS isomer 1",
          "Hypotaurine_3TMS",
          "Kynurenic acid_2TMS",
          "Theanine_3TMS",
          "Theanine_2TMS",
          "alpha-Methylcinammic acid_1TMS",
          "Hydroxyproline_3TMS",
          "Norleucine_2TMS",
          "Methionine_2TMS",
          "Cysteine_3TMS",
          "beta-Alanine_3TMS",
          "Acetylmethionine_1TMS",
          "Lysine_4TMS",
          "Methionine sulfoxide_3TMS",
          "Valine_2TMS",
          "Glucuro-3,6-lactone_3TMS isomer 1",
          "Itaconic acid_2TMS",
          "Shikimic acid_4TMS",
          "Tyrosine_3TMS",
          "3-Chlorotyrosine_3TMS",
          "Homogentisic acid_3TMS",
          "Homocysteine_4TMS",
          "Homocysteine_3TMS",
          "Spermine_6TMS",
          "Cotinine",
          "Citraconic acid_2TMS",
          "Serotonin_4TMS",
          "Serotonin_3TMS",
          "Xanthine_3TMS",
          "Serine_3TMS",
          "Tryptamine_2TMS",
          "Estradiol_2TMS",
          "Kynurenine_2TMS",
          "Dopamine_4TMS",
          "Estrone_1TMS",
          "Estrone_1TMS",
          "Norvaline_2TMS",
          "Norvaline_3TMS",
          "Salicylic acid_2TMS",
          "Stearic acid_1TMS",
          "Adenine_3TMS",
          "Hippuric acid_2TMS",
          "Aspartic acid_3TMS isomer",
          "Cytosine_2TMS",
          "Levodopa_4TMS",
          "2-Methoxybenzoic acid_1TMS",
          "Threonine_3TMS spectra 1",
          "2-Oxoadipic acid_2TMS isomer 2",
          "2-Oxoadipic acid_2TMS isomer 1",
          "Proline_2TMS"
         ],
         "xaxis": "x",
         "y": [
          1376.073,
          1292.953,
          1892.004,
          2118.982,
          2175.041,
          1282.975,
          1951.021,
          2131.329,
          1975.29,
          2119.143,
          1877.684,
          2065.527,
          1988.727,
          2310.707,
          1519.766,
          1528.459,
          1318.455,
          1366.752,
          1133.662,
          1512.481,
          2031.59,
          1888.373,
          1456.937,
          2384.715,
          2445.713,
          1708.024,
          1321.728,
          1299.49,
          1861.884,
          1871.707,
          1801.269,
          1914.512,
          2146.867,
          1815.935,
          2048.997,
          2274.265,
          3706.675,
          1820.179,
          1518.258,
          1654.213,
          1662.921,
          1800.533,
          1730,
          1808.72,
          3541.85,
          1599.903,
          2064.473,
          1751.486,
          1767.969,
          1564.514,
          1513.131,
          1316.851,
          1508.447,
          1542.761,
          1420.506,
          1674.306,
          1908.314,
          1764.405,
          1226.034,
          1883.896,
          1337.622,
          1782.877,
          1925.553,
          2058.391,
          1813.416,
          2505.27,
          1645.979,
          2728.015,
          1704.209,
          1344.988,
          2446.155,
          2474.028,
          1998.854,
          1353.518,
          1950.659,
          2684.039,
          2149.28,
          2063.897,
          2690.648,
          2649.305,
          1244.507,
          1469.973,
          1506.984,
          2235.718,
          1925.431,
          1799.822,
          1510.38,
          1517.806,
          2088.587,
          1457.841,
          1381.929,
          1646.616,
          1621.799,
          1304.064
         ],
         "yaxis": "y"
        },
        {
         "hovertemplate": "group=annotation<br>name=%{x}<br>retention_index=%{y}<extra></extra>",
         "legendgroup": "annotation",
         "marker": {
          "color": "#EF553B",
          "symbol": "circle"
         },
         "mode": "markers",
         "name": "annotation",
         "orientation": "v",
         "showlegend": true,
         "type": "scatter",
         "x": [
          "Lysine_4TMS",
          "Pipecolinic acid_2TMS",
          "Pyroglutamic acid_2TMS",
          "Thymol_1TMS",
          "Melatonin_1TMS",
          "Isocitric acid_4TMS",
          "2-Methoxybenzoic acid_1TMS",
          "Threonine_3TMS spectra 1",
          "3-Chlorotyrosine_3TMS",
          "Levodopa_4TMS",
          "Shikimic acid_4TMS",
          "Serine_3TMS",
          "Maltotriose_11TMS isomer 1",
          "Kynurenic acid_2TMS",
          "Proline_2TMS",
          "Citric acid_4TMS",
          "Theanine_3TMS",
          "Aspartic acid_3TMS isomer",
          "Melatonin_2TMS",
          "Guanine_4TMS",
          "Gallic acid_4TMS",
          "Fructose_5TMS isomer 2",
          "Gluconic acid-1,4-lactone",
          "Fructose_5TMS isomer 1",
          "Methionine_2TMS",
          "Methionine sulfoxide_3TMS",
          "Homocysteine_3TMS",
          "Allantoin_3TMS",
          "Fructose_5TMS isomer 2",
          "Gluconic acid-1,4-lactone",
          "Fructose_5TMS isomer 1",
          "Maltotriose_11TMS isomer 1",
          "Estrone_1TMS",
          "Kynurenine_2TMS",
          "Alanine_3TMS",
          "Gallic acid_4TMS",
          "Theanine_3TMS",
          "Xanthine_3TMS",
          "Histidine_3TMS",
          "Hydroxyproline_3TMS",
          "Taurine_3TMS",
          "Histidine_4TMS",
          "Phosphoserine_4TMS",
          "Glucose-6-phosphate_6TMS isomer 1",
          "3-Chlorotyrosine_3TMS",
          "Levodopa_4TMS",
          "Tyrosine_3TMS",
          "Dopamine_4TMS",
          "Serotonin_4TMS",
          "Serotonin_3TMS",
          "Estradiol_2TMS",
          "Fructose_5TMS isomer 2",
          "Gluconic acid-1,4-lactone",
          "Fructose_5TMS isomer 1",
          "Deoxycholic acid_3TMS",
          "alpha-Methylcinammic acid_1TMS",
          "Shikimic acid_4TMS",
          "Maltotriose_11TMS isomer 1",
          "trans-Caffeic acid_3TMS",
          "alpha-Methylcinammic acid_1TMS",
          "Phosphoserine_4TMS",
          "Glutamic acid_2TMS",
          "Stearic acid_1TMS",
          "Homocysteine_3TMS",
          "Homocysteine_4TMS",
          "Thymol_1TMS",
          "Indole-3-acetamide_3TMS",
          "Glucuro-3,6-lactone_3TMS isomer 1",
          "Cysteine_3TMS",
          "Alanine_2TMS",
          "Norvaline_2TMS",
          "Valine_2TMS",
          "2-Oxoadipic acid_2TMS isomer 1",
          "2-Oxoadipic acid_2TMS isomer 2",
          "2-Oxoadipic acid_2TMS isomer 2",
          "2-Oxoadipic acid_2TMS isomer 1",
          "Proline_2TMS",
          "beta-Alanine_3TMS",
          "Melatonin_1TMS",
          "Homogentisic acid_3TMS",
          "Methylnicotinamide_1TMS",
          "Orotic acid_3TMS",
          "Cytosine_2TMS",
          "cis-Caffeic acid_3TMS",
          "alpha-Methylcinammic acid_1TMS",
          "Homoveratric_acid_1TMS",
          "Phosphoserine_4TMS",
          "Theanine_3TMS",
          "Hypotaurine_3TMS",
          "Alanine_3TMS",
          "Melatonin_2TMS",
          "Leucine_2TMS",
          "Isoleucine_2TMS",
          "Methionine sulfoxide_3TMS",
          "Guanine_3TMS",
          "Deoxycholic acid_3TMS",
          "Orotic acid_3TMS",
          "Kynurenine_2TMS",
          "Estradiol_2TMS",
          "Homogentisic acid_3TMS",
          "Succinic acid_1TMS",
          "Itaconic acid_2TMS",
          "Citraconic acid_2TMS",
          "Estradiol_2TMS",
          "Maltotriose_11TMS isomer 1",
          "Leucine_2TMS",
          "Norleucine_2TMS",
          "Isoleucine_2TMS",
          "Arginine_3TMS",
          "Methylnicotinamide_1TMS",
          "cis-Caffeic acid_3TMS",
          "Orotic acid_3TMS",
          "Cytosine_2TMS",
          "Methionine sulfoxide_3TMS",
          "Tryptamine_2TMS",
          "Pipecolinic acid_1TMS",
          "3,4-Dihydroxybenzeneacetic acid_3TMS",
          "Acetyltyrosine_2TMS",
          "Theobromine_1TMS",
          "Cotinine",
          "Indole-3-acetamide_3TMS",
          "Glucuro-3,6-lactone_3TMS isomer 1",
          "Levodopa_4TMS",
          "Glucuro-3,6-lactone_3TMS isomer 1",
          "Norvaline_3TMS",
          "Glucuro-3,6-lactone_3TMS isomer 1",
          "Cysteine_3TMS",
          "3-Indolepropionic acid_1TMS",
          "Acetylaspartic acid_3TMS",
          "Arginine_3TMS",
          "Tryptamine_2TMS",
          "Acetylmethionine_1TMS",
          "2-Oxoadipic acid_2TMS isomer 1",
          "Estradiol_2TMS",
          "Tryptamine_2TMS",
          "Guanine_3TMS",
          "Allantoin_4TMS",
          "Tetradecanedioic acid_2TMS",
          "Spermine_6TMS",
          "Theanine_2TMS",
          "Indole-3-acetamide_3TMS",
          "Phosphoserine_4TMS",
          "Salicylic acid_2TMS",
          "Homogentisic acid_3TMS",
          "Salicylic acid_2TMS",
          "Adenine_3TMS",
          "Stearic acid_1TMS",
          "Stearic acid_1TMS",
          "Stearic acid_1TMS",
          "Hippuric acid_2TMS",
          "Methionine_2TMS",
          "Methionine sulfoxide_3TMS",
          "Homocysteine_3TMS",
          "Gallic acid_4TMS",
          "Syringic acid_2TMS",
          "Syringic acid_2TMS",
          "Stearic acid_1TMS"
         ],
         "xaxis": "x",
         "y": [
          1917.708333,
          1917.708333,
          1917.708333,
          3131.403509,
          2438.024691,
          2438.024691,
          1260,
          1376.565657,
          1376.565657,
          1376.565657,
          1349.89899,
          1349.89899,
          1349.89899,
          2086,
          1604.537037,
          1811.761905,
          1811.761905,
          1510.833333,
          1510.833333,
          2292.222222,
          3913.690476,
          1881.857143,
          1881.857143,
          1881.857143,
          1608.888889,
          1608.888889,
          1608.888889,
          2439.259259,
          2078.388889,
          2078.388889,
          2078.388889,
          2086.777778,
          2444.62963,
          1620.925926,
          1657.453704,
          2393.777778,
          2322.555556,
          2008.222222,
          1906.510417,
          1812.142857,
          1751.306306,
          1751.306306,
          1750.945946,
          1750.945946,
          1662.268519,
          1662.268519,
          1662.268519,
          2744.649123,
          2744.649123,
          2744.649123,
          2888.235294,
          2394.666667,
          2394.666667,
          2394.666667,
          2506.597222,
          2086.166667,
          2012.055556,
          2012.055556,
          1934.791667,
          1934.791667,
          1264.852941,
          1300.959596,
          1793.558559,
          1568.645833,
          2069.833333,
          1875.238095,
          1278.72549,
          1278.72549,
          1278.72549,
          1293.431373,
          1207.54902,
          1207.54902,
          1518.177083,
          1518.177083,
          1516.875,
          1516.875,
          1564.114583,
          1611.296296,
          1658.287037,
          2315.166667,
          2998.039216,
          2556.388889,
          2556.388889,
          2042.388889,
          2042.388889,
          2047.944444,
          1260.343137,
          1809.571429,
          1813.285714,
          1813.285714,
          1701.711712,
          1786.666667,
          1786.666667,
          1505.15625,
          2114.938272,
          2158.703704,
          2542.222222,
          3170.350877,
          3075,
          3485.897436,
          2087.111111,
          2087.111111,
          2087.111111,
          2093.333333,
          1919.791667,
          1275.245098,
          1275.245098,
          1275.245098,
          1818.333333,
          1761.666667,
          1414.947917,
          1566.927083,
          1566.927083,
          1664.722222,
          2677.301587,
          2733.333333,
          2333.722222,
          2414.197531,
          2476.17284,
          3785.541667,
          2067.888889,
          2067.888889,
          2077.777778,
          1856.095238,
          1868.904762,
          1305.40404,
          1305.40404,
          1333.131313,
          1685.231481,
          1443.75,
          1398.282828,
          1551.145833,
          1605.87963,
          1590.208333,
          1642.083333,
          2118.395062,
          2296,
          2230.888889,
          2735.964912,
          2360.111111,
          3067.314815,
          3646.238095,
          3531.166667,
          3877.907801,
          3854.503546,
          1875,
          1915.729167,
          1728.108108,
          1583.229167,
          2997.941176,
          2594.236111,
          2594.236111,
          2594.236111,
          3175,
          3393.26087,
          3686.238095,
          3683.238095
         ],
         "yaxis": "y"
        }
       ],
       "layout": {
        "legend": {
         "title": {
          "text": "group"
         },
         "tracegroupgap": 0
        },
        "margin": {
         "t": 60
        },
        "template": {
         "data": {
          "bar": [
           {
            "error_x": {
             "color": "#2a3f5f"
            },
            "error_y": {
             "color": "#2a3f5f"
            },
            "marker": {
             "line": {
              "color": "#E5ECF6",
              "width": 0.5
             },
             "pattern": {
              "fillmode": "overlay",
              "size": 10,
              "solidity": 0.2
             }
            },
            "type": "bar"
           }
          ],
          "barpolar": [
           {
            "marker": {
             "line": {
              "color": "#E5ECF6",
              "width": 0.5
             },
             "pattern": {
              "fillmode": "overlay",
              "size": 10,
              "solidity": 0.2
             }
            },
            "type": "barpolar"
           }
          ],
          "carpet": [
           {
            "aaxis": {
             "endlinecolor": "#2a3f5f",
             "gridcolor": "white",
             "linecolor": "white",
             "minorgridcolor": "white",
             "startlinecolor": "#2a3f5f"
            },
            "baxis": {
             "endlinecolor": "#2a3f5f",
             "gridcolor": "white",
             "linecolor": "white",
             "minorgridcolor": "white",
             "startlinecolor": "#2a3f5f"
            },
            "type": "carpet"
           }
          ],
          "choropleth": [
           {
            "colorbar": {
             "outlinewidth": 0,
             "ticks": ""
            },
            "type": "choropleth"
           }
          ],
          "contour": [
           {
            "colorbar": {
             "outlinewidth": 0,
             "ticks": ""
            },
            "colorscale": [
             [
              0,
              "#0d0887"
             ],
             [
              0.1111111111111111,
              "#46039f"
             ],
             [
              0.2222222222222222,
              "#7201a8"
             ],
             [
              0.3333333333333333,
              "#9c179e"
             ],
             [
              0.4444444444444444,
              "#bd3786"
             ],
             [
              0.5555555555555556,
              "#d8576b"
             ],
             [
              0.6666666666666666,
              "#ed7953"
             ],
             [
              0.7777777777777778,
              "#fb9f3a"
             ],
             [
              0.8888888888888888,
              "#fdca26"
             ],
             [
              1,
              "#f0f921"
             ]
            ],
            "type": "contour"
           }
          ],
          "contourcarpet": [
           {
            "colorbar": {
             "outlinewidth": 0,
             "ticks": ""
            },
            "type": "contourcarpet"
           }
          ],
          "heatmap": [
           {
            "colorbar": {
             "outlinewidth": 0,
             "ticks": ""
            },
            "colorscale": [
             [
              0,
              "#0d0887"
             ],
             [
              0.1111111111111111,
              "#46039f"
             ],
             [
              0.2222222222222222,
              "#7201a8"
             ],
             [
              0.3333333333333333,
              "#9c179e"
             ],
             [
              0.4444444444444444,
              "#bd3786"
             ],
             [
              0.5555555555555556,
              "#d8576b"
             ],
             [
              0.6666666666666666,
              "#ed7953"
             ],
             [
              0.7777777777777778,
              "#fb9f3a"
             ],
             [
              0.8888888888888888,
              "#fdca26"
             ],
             [
              1,
              "#f0f921"
             ]
            ],
            "type": "heatmap"
           }
          ],
          "heatmapgl": [
           {
            "colorbar": {
             "outlinewidth": 0,
             "ticks": ""
            },
            "colorscale": [
             [
              0,
              "#0d0887"
             ],
             [
              0.1111111111111111,
              "#46039f"
             ],
             [
              0.2222222222222222,
              "#7201a8"
             ],
             [
              0.3333333333333333,
              "#9c179e"
             ],
             [
              0.4444444444444444,
              "#bd3786"
             ],
             [
              0.5555555555555556,
              "#d8576b"
             ],
             [
              0.6666666666666666,
              "#ed7953"
             ],
             [
              0.7777777777777778,
              "#fb9f3a"
             ],
             [
              0.8888888888888888,
              "#fdca26"
             ],
             [
              1,
              "#f0f921"
             ]
            ],
            "type": "heatmapgl"
           }
          ],
          "histogram": [
           {
            "marker": {
             "pattern": {
              "fillmode": "overlay",
              "size": 10,
              "solidity": 0.2
             }
            },
            "type": "histogram"
           }
          ],
          "histogram2d": [
           {
            "colorbar": {
             "outlinewidth": 0,
             "ticks": ""
            },
            "colorscale": [
             [
              0,
              "#0d0887"
             ],
             [
              0.1111111111111111,
              "#46039f"
             ],
             [
              0.2222222222222222,
              "#7201a8"
             ],
             [
              0.3333333333333333,
              "#9c179e"
             ],
             [
              0.4444444444444444,
              "#bd3786"
             ],
             [
              0.5555555555555556,
              "#d8576b"
             ],
             [
              0.6666666666666666,
              "#ed7953"
             ],
             [
              0.7777777777777778,
              "#fb9f3a"
             ],
             [
              0.8888888888888888,
              "#fdca26"
             ],
             [
              1,
              "#f0f921"
             ]
            ],
            "type": "histogram2d"
           }
          ],
          "histogram2dcontour": [
           {
            "colorbar": {
             "outlinewidth": 0,
             "ticks": ""
            },
            "colorscale": [
             [
              0,
              "#0d0887"
             ],
             [
              0.1111111111111111,
              "#46039f"
             ],
             [
              0.2222222222222222,
              "#7201a8"
             ],
             [
              0.3333333333333333,
              "#9c179e"
             ],
             [
              0.4444444444444444,
              "#bd3786"
             ],
             [
              0.5555555555555556,
              "#d8576b"
             ],
             [
              0.6666666666666666,
              "#ed7953"
             ],
             [
              0.7777777777777778,
              "#fb9f3a"
             ],
             [
              0.8888888888888888,
              "#fdca26"
             ],
             [
              1,
              "#f0f921"
             ]
            ],
            "type": "histogram2dcontour"
           }
          ],
          "mesh3d": [
           {
            "colorbar": {
             "outlinewidth": 0,
             "ticks": ""
            },
            "type": "mesh3d"
           }
          ],
          "parcoords": [
           {
            "line": {
             "colorbar": {
              "outlinewidth": 0,
              "ticks": ""
             }
            },
            "type": "parcoords"
           }
          ],
          "pie": [
           {
            "automargin": true,
            "type": "pie"
           }
          ],
          "scatter": [
           {
            "marker": {
             "colorbar": {
              "outlinewidth": 0,
              "ticks": ""
             }
            },
            "type": "scatter"
           }
          ],
          "scatter3d": [
           {
            "line": {
             "colorbar": {
              "outlinewidth": 0,
              "ticks": ""
             }
            },
            "marker": {
             "colorbar": {
              "outlinewidth": 0,
              "ticks": ""
             }
            },
            "type": "scatter3d"
           }
          ],
          "scattercarpet": [
           {
            "marker": {
             "colorbar": {
              "outlinewidth": 0,
              "ticks": ""
             }
            },
            "type": "scattercarpet"
           }
          ],
          "scattergeo": [
           {
            "marker": {
             "colorbar": {
              "outlinewidth": 0,
              "ticks": ""
             }
            },
            "type": "scattergeo"
           }
          ],
          "scattergl": [
           {
            "marker": {
             "colorbar": {
              "outlinewidth": 0,
              "ticks": ""
             }
            },
            "type": "scattergl"
           }
          ],
          "scattermapbox": [
           {
            "marker": {
             "colorbar": {
              "outlinewidth": 0,
              "ticks": ""
             }
            },
            "type": "scattermapbox"
           }
          ],
          "scatterpolar": [
           {
            "marker": {
             "colorbar": {
              "outlinewidth": 0,
              "ticks": ""
             }
            },
            "type": "scatterpolar"
           }
          ],
          "scatterpolargl": [
           {
            "marker": {
             "colorbar": {
              "outlinewidth": 0,
              "ticks": ""
             }
            },
            "type": "scatterpolargl"
           }
          ],
          "scatterternary": [
           {
            "marker": {
             "colorbar": {
              "outlinewidth": 0,
              "ticks": ""
             }
            },
            "type": "scatterternary"
           }
          ],
          "surface": [
           {
            "colorbar": {
             "outlinewidth": 0,
             "ticks": ""
            },
            "colorscale": [
             [
              0,
              "#0d0887"
             ],
             [
              0.1111111111111111,
              "#46039f"
             ],
             [
              0.2222222222222222,
              "#7201a8"
             ],
             [
              0.3333333333333333,
              "#9c179e"
             ],
             [
              0.4444444444444444,
              "#bd3786"
             ],
             [
              0.5555555555555556,
              "#d8576b"
             ],
             [
              0.6666666666666666,
              "#ed7953"
             ],
             [
              0.7777777777777778,
              "#fb9f3a"
             ],
             [
              0.8888888888888888,
              "#fdca26"
             ],
             [
              1,
              "#f0f921"
             ]
            ],
            "type": "surface"
           }
          ],
          "table": [
           {
            "cells": {
             "fill": {
              "color": "#EBF0F8"
             },
             "line": {
              "color": "white"
             }
            },
            "header": {
             "fill": {
              "color": "#C8D4E3"
             },
             "line": {
              "color": "white"
             }
            },
            "type": "table"
           }
          ]
         },
         "layout": {
          "annotationdefaults": {
           "arrowcolor": "#2a3f5f",
           "arrowhead": 0,
           "arrowwidth": 1
          },
          "autotypenumbers": "strict",
          "coloraxis": {
           "colorbar": {
            "outlinewidth": 0,
            "ticks": ""
           }
          },
          "colorscale": {
           "diverging": [
            [
             0,
             "#8e0152"
            ],
            [
             0.1,
             "#c51b7d"
            ],
            [
             0.2,
             "#de77ae"
            ],
            [
             0.3,
             "#f1b6da"
            ],
            [
             0.4,
             "#fde0ef"
            ],
            [
             0.5,
             "#f7f7f7"
            ],
            [
             0.6,
             "#e6f5d0"
            ],
            [
             0.7,
             "#b8e186"
            ],
            [
             0.8,
             "#7fbc41"
            ],
            [
             0.9,
             "#4d9221"
            ],
            [
             1,
             "#276419"
            ]
           ],
           "sequential": [
            [
             0,
             "#0d0887"
            ],
            [
             0.1111111111111111,
             "#46039f"
            ],
            [
             0.2222222222222222,
             "#7201a8"
            ],
            [
             0.3333333333333333,
             "#9c179e"
            ],
            [
             0.4444444444444444,
             "#bd3786"
            ],
            [
             0.5555555555555556,
             "#d8576b"
            ],
            [
             0.6666666666666666,
             "#ed7953"
            ],
            [
             0.7777777777777778,
             "#fb9f3a"
            ],
            [
             0.8888888888888888,
             "#fdca26"
            ],
            [
             1,
             "#f0f921"
            ]
           ],
           "sequentialminus": [
            [
             0,
             "#0d0887"
            ],
            [
             0.1111111111111111,
             "#46039f"
            ],
            [
             0.2222222222222222,
             "#7201a8"
            ],
            [
             0.3333333333333333,
             "#9c179e"
            ],
            [
             0.4444444444444444,
             "#bd3786"
            ],
            [
             0.5555555555555556,
             "#d8576b"
            ],
            [
             0.6666666666666666,
             "#ed7953"
            ],
            [
             0.7777777777777778,
             "#fb9f3a"
            ],
            [
             0.8888888888888888,
             "#fdca26"
            ],
            [
             1,
             "#f0f921"
            ]
           ]
          },
          "colorway": [
           "#636efa",
           "#EF553B",
           "#00cc96",
           "#ab63fa",
           "#FFA15A",
           "#19d3f3",
           "#FF6692",
           "#B6E880",
           "#FF97FF",
           "#FECB52"
          ],
          "font": {
           "color": "#2a3f5f"
          },
          "geo": {
           "bgcolor": "white",
           "lakecolor": "white",
           "landcolor": "#E5ECF6",
           "showlakes": true,
           "showland": true,
           "subunitcolor": "white"
          },
          "hoverlabel": {
           "align": "left"
          },
          "hovermode": "closest",
          "mapbox": {
           "style": "light"
          },
          "paper_bgcolor": "white",
          "plot_bgcolor": "#E5ECF6",
          "polar": {
           "angularaxis": {
            "gridcolor": "white",
            "linecolor": "white",
            "ticks": ""
           },
           "bgcolor": "#E5ECF6",
           "radialaxis": {
            "gridcolor": "white",
            "linecolor": "white",
            "ticks": ""
           }
          },
          "scene": {
           "xaxis": {
            "backgroundcolor": "#E5ECF6",
            "gridcolor": "white",
            "gridwidth": 2,
            "linecolor": "white",
            "showbackground": true,
            "ticks": "",
            "zerolinecolor": "white"
           },
           "yaxis": {
            "backgroundcolor": "#E5ECF6",
            "gridcolor": "white",
            "gridwidth": 2,
            "linecolor": "white",
            "showbackground": true,
            "ticks": "",
            "zerolinecolor": "white"
           },
           "zaxis": {
            "backgroundcolor": "#E5ECF6",
            "gridcolor": "white",
            "gridwidth": 2,
            "linecolor": "white",
            "showbackground": true,
            "ticks": "",
            "zerolinecolor": "white"
           }
          },
          "shapedefaults": {
           "line": {
            "color": "#2a3f5f"
           }
          },
          "ternary": {
           "aaxis": {
            "gridcolor": "white",
            "linecolor": "white",
            "ticks": ""
           },
           "baxis": {
            "gridcolor": "white",
            "linecolor": "white",
            "ticks": ""
           },
           "bgcolor": "#E5ECF6",
           "caxis": {
            "gridcolor": "white",
            "linecolor": "white",
            "ticks": ""
           }
          },
          "title": {
           "x": 0.05
          },
          "xaxis": {
           "automargin": true,
           "gridcolor": "white",
           "linecolor": "white",
           "ticks": "",
           "title": {
            "standoff": 15
           },
           "zerolinecolor": "white",
           "zerolinewidth": 2
          },
          "yaxis": {
           "automargin": true,
           "gridcolor": "white",
           "linecolor": "white",
           "ticks": "",
           "title": {
            "standoff": 15
           },
           "zerolinecolor": "white",
           "zerolinewidth": 2
          }
         }
        },
        "xaxis": {
         "anchor": "y",
         "domain": [
          0,
          1
         ],
         "title": {
          "text": "name"
         }
        },
        "yaxis": {
         "anchor": "x",
         "domain": [
          0,
          1
         ],
         "title": {
          "text": "retention_index"
         }
        }
       }
      }
     },
     "metadata": {},
     "output_type": "display_data"
    }
   ],
   "source": [
    "fig = px.scatter(merged_data, x=\"name\", y=\"retention_index\", color = \"group\")\n",
    "\n",
    "fig.show()"
   ]
  },
  {
   "cell_type": "code",
   "execution_count": 59,
   "metadata": {},
   "outputs": [],
   "source": [
    "metabolite_subframe = metabolite_lib_data[[\"name\", \"retention_index\"]]\n",
    "annotation_subframe = annotation_data[[\"name\", \"retention_time\"]]\n",
    "annotation_df = pandas.merge(metabolite_subframe, annotation_subframe)"
   ]
  },
  {
   "cell_type": "code",
   "execution_count": 61,
   "metadata": {},
   "outputs": [
    {
     "data": {
      "application/vnd.plotly.v1+json": {
       "config": {
        "plotlyServerURL": "https://plot.ly"
       },
       "data": [
        {
         "hovertemplate": "retention_time=%{x}<br>retention_index=%{y}<br>name=%{text}<extra></extra>",
         "legendgroup": "",
         "marker": {
          "color": "#636efa",
          "symbol": "circle"
         },
         "mode": "markers+text",
         "name": "",
         "orientation": "v",
         "showlegend": false,
         "text": [
          "Pipecolinic acid_2TMS",
          "Pipecolinic acid_1TMS",
          "Syringic acid_2TMS",
          "Syringic acid_2TMS",
          "Guanine_3TMS",
          "Guanine_3TMS",
          "Guanine_4TMS",
          "Leucine_2TMS",
          "Leucine_2TMS",
          "Gallic acid_4TMS",
          "Gallic acid_4TMS",
          "Gallic acid_4TMS",
          "trans-Caffeic acid_3TMS",
          "cis-Caffeic acid_3TMS",
          "cis-Caffeic acid_3TMS",
          "Acetyltyrosine_2TMS",
          "Allantoin_4TMS",
          "Allantoin_3TMS",
          "Theobromine_1TMS",
          "Glucose-6-phosphate_6TMS isomer 1",
          "Pyroglutamic acid_2TMS",
          "Pyroglutamic acid_2TMS",
          "Glutamic acid_2TMS",
          "Succinic acid_1TMS",
          "Alanine_3TMS",
          "Alanine_3TMS",
          "Alanine_2TMS",
          "Aspartic acid_3TMS isomer",
          "Aspartic acid_3TMS isomer",
          "3-Indolepropionic acid_1TMS",
          "Gluconic acid-1,4-lactone",
          "Gluconic acid-1,4-lactone",
          "Gluconic acid-1,4-lactone",
          "Methylnicotinamide_1TMS",
          "Methylnicotinamide_1TMS",
          "Melatonin_2TMS",
          "Melatonin_2TMS",
          "Melatonin_1TMS",
          "Melatonin_1TMS",
          "Homoveratric_acid_1TMS",
          "Thymol_1TMS",
          "Thymol_1TMS",
          "Isoleucine_2TMS",
          "Isoleucine_2TMS",
          "Fructose_5TMS isomer 1",
          "Fructose_5TMS isomer 1",
          "Fructose_5TMS isomer 1",
          "Fructose_5TMS isomer 2",
          "Fructose_5TMS isomer 2",
          "Fructose_5TMS isomer 2",
          "Isocitric acid_4TMS",
          "Histidine_3TMS",
          "Histidine_4TMS",
          "3,4-Dihydroxybenzeneacetic acid_3TMS",
          "Indole-3-acetamide_3TMS",
          "Indole-3-acetamide_3TMS",
          "Indole-3-acetamide_3TMS",
          "Tetradecanedioic acid_2TMS",
          "Deoxycholic acid_3TMS",
          "Deoxycholic acid_3TMS",
          "Phosphoserine_4TMS",
          "Phosphoserine_4TMS",
          "Phosphoserine_4TMS",
          "Phosphoserine_4TMS",
          "Acetylaspartic acid_3TMS",
          "Taurine_3TMS",
          "Citric acid_4TMS",
          "Orotic acid_3TMS",
          "Orotic acid_3TMS",
          "Orotic acid_3TMS",
          "Arginine_3TMS",
          "Arginine_3TMS",
          "Maltotriose_11TMS isomer 1",
          "Maltotriose_11TMS isomer 1",
          "Maltotriose_11TMS isomer 1",
          "Maltotriose_11TMS isomer 1",
          "Hypotaurine_3TMS",
          "Kynurenic acid_2TMS",
          "Theanine_3TMS",
          "Theanine_3TMS",
          "Theanine_3TMS",
          "Theanine_2TMS",
          "alpha-Methylcinammic acid_1TMS",
          "alpha-Methylcinammic acid_1TMS",
          "alpha-Methylcinammic acid_1TMS",
          "Hydroxyproline_3TMS",
          "Norleucine_2TMS",
          "Methionine_2TMS",
          "Methionine_2TMS",
          "Cysteine_3TMS",
          "Cysteine_3TMS",
          "beta-Alanine_3TMS",
          "Acetylmethionine_1TMS",
          "Lysine_4TMS",
          "Methionine sulfoxide_3TMS",
          "Methionine sulfoxide_3TMS",
          "Methionine sulfoxide_3TMS",
          "Methionine sulfoxide_3TMS",
          "Valine_2TMS",
          "Glucuro-3,6-lactone_3TMS isomer 1",
          "Glucuro-3,6-lactone_3TMS isomer 1",
          "Glucuro-3,6-lactone_3TMS isomer 1",
          "Glucuro-3,6-lactone_3TMS isomer 1",
          "Itaconic acid_2TMS",
          "Shikimic acid_4TMS",
          "Shikimic acid_4TMS",
          "Tyrosine_3TMS",
          "3-Chlorotyrosine_3TMS",
          "3-Chlorotyrosine_3TMS",
          "Homogentisic acid_3TMS",
          "Homogentisic acid_3TMS",
          "Homogentisic acid_3TMS",
          "Homocysteine_4TMS",
          "Homocysteine_3TMS",
          "Homocysteine_3TMS",
          "Homocysteine_3TMS",
          "Spermine_6TMS",
          "Cotinine",
          "Citraconic acid_2TMS",
          "Serotonin_4TMS",
          "Serotonin_3TMS",
          "Xanthine_3TMS",
          "Serine_3TMS",
          "Tryptamine_2TMS",
          "Tryptamine_2TMS",
          "Tryptamine_2TMS",
          "Estradiol_2TMS",
          "Estradiol_2TMS",
          "Estradiol_2TMS",
          "Estradiol_2TMS",
          "Kynurenine_2TMS",
          "Kynurenine_2TMS",
          "Dopamine_4TMS",
          "Estrone_1TMS",
          "Estrone_1TMS",
          "Norvaline_2TMS",
          "Norvaline_3TMS",
          "Salicylic acid_2TMS",
          "Salicylic acid_2TMS",
          "Stearic acid_1TMS",
          "Stearic acid_1TMS",
          "Stearic acid_1TMS",
          "Stearic acid_1TMS",
          "Stearic acid_1TMS",
          "Adenine_3TMS",
          "Hippuric acid_2TMS",
          "Cytosine_2TMS",
          "Cytosine_2TMS",
          "Levodopa_4TMS",
          "Levodopa_4TMS",
          "Levodopa_4TMS",
          "2-Methoxybenzoic acid_1TMS",
          "Threonine_3TMS spectra 1",
          "2-Oxoadipic acid_2TMS isomer 2",
          "2-Oxoadipic acid_2TMS isomer 2",
          "2-Oxoadipic acid_2TMS isomer 1",
          "2-Oxoadipic acid_2TMS isomer 1",
          "2-Oxoadipic acid_2TMS isomer 1",
          "Proline_2TMS",
          "Proline_2TMS"
         ],
         "textposition": "bottom right",
         "type": "scatter",
         "x": [
          290.8,
          423.8,
          498.87,
          551.51,
          327.02,
          327.58,
          357.4,
          263.44,
          159.35,
          611.2,
          375.68,
          471.15,
          294.08,
          314.23,
          187.07,
          379.1,
          358.08,
          383.16,
          389.14,
          255.51,
          290.8,
          290.8,
          164.59,
          322.28,
          235.01,
          269.19,
          163.06,
          205.48,
          205.48,
          170.96,
          283.59,
          320.71,
          375.84,
          451.6,
          257.89,
          205.48,
          244.58,
          382.96,
          235.19,
          315.23,
          466.18,
          282.2,
          263.44,
          159.35,
          283.59,
          320.71,
          375.84,
          283.59,
          320.71,
          375.84,
          382.96,
          288.65,
          255.59,
          364.87,
          160.06,
          318.82,
          459.07,
          346.36,
          393.95,
          334.11,
          255.51,
          157.23,
          156.31,
          543.11,
          241.01,
          255.59,
          268.87,
          401.12,
          399.08,
          216.25,
          270.25,
          192.6,
          174.28,
          322.22,
          308.77,
          291.2,
          269.19,
          322.08,
          268.87,
          362.86,
          268.41,
          369.62,
          322.11,
          294.08,
          314.23,
          268.95,
          159.35,
          224.52,
          406.57,
          160.06,
          165.47,
          225.04,
          213.22,
          290.8,
          224.52,
          204.39,
          236.58,
          406.57,
          145.54,
          160.06,
          318.82,
          278.18,
          165.47,
          322.28,
          174.28,
          308.77,
          236.05,
          179.56,
          236.05,
          361.53,
          513.2,
          600.37,
          319.17,
          224.52,
          216.58,
          406.57,
          424.1,
          574.93,
          322.28,
          425.09,
          425.09,
          308.08,
          174.28,
          417.14,
          183.86,
          231.69,
          440.4,
          459.9,
          323.4,
          220.72,
          227.12,
          470.62,
          425.09,
          384.03,
          384.03,
          145.54,
          280.87,
          521.01,
          593.77,
          264.97,
          290.42,
          250.44,
          219.38,
          550.88,
          282.15,
          451.59,
          401.12,
          216.25,
          179.56,
          236.05,
          320.6,
          156.24,
          179.56,
          206.89,
          206.64,
          206.89,
          206.64,
          223.87,
          223.58,
          215.71
         ],
         "xaxis": "x",
         "y": [
          1376.073,
          1292.953,
          1892.004,
          1892.004,
          2118.982,
          2118.982,
          2175.041,
          1282.975,
          1282.975,
          1951.021,
          1951.021,
          1951.021,
          2131.329,
          1975.29,
          1975.29,
          2119.143,
          1877.684,
          2065.527,
          1988.727,
          2310.707,
          1519.766,
          1518.258,
          1528.459,
          1318.455,
          1366.752,
          1366.752,
          1133.662,
          1512.481,
          1510.38,
          2031.59,
          1888.373,
          1888.373,
          1888.373,
          1456.937,
          1456.937,
          2384.715,
          2384.715,
          2445.713,
          2445.713,
          1708.024,
          1321.728,
          1321.728,
          1299.49,
          1299.49,
          1861.884,
          1861.884,
          1861.884,
          1871.707,
          1871.707,
          1871.707,
          1801.269,
          1914.512,
          2146.867,
          1815.935,
          2048.997,
          2048.997,
          2048.997,
          2274.265,
          3706.675,
          3706.675,
          1820.179,
          1820.179,
          1820.179,
          1820.179,
          1654.213,
          1662.921,
          1800.533,
          1730,
          1730,
          1730,
          1808.72,
          1808.72,
          3541.85,
          3541.85,
          3541.85,
          3541.85,
          1599.903,
          2064.473,
          1751.486,
          1751.486,
          1751.486,
          1767.969,
          1564.514,
          1564.514,
          1564.514,
          1513.131,
          1316.851,
          1508.447,
          1508.447,
          1542.761,
          1542.761,
          1420.506,
          1674.306,
          1908.314,
          1764.405,
          1764.405,
          1764.405,
          1764.405,
          1226.034,
          1883.896,
          1883.896,
          1883.896,
          1883.896,
          1337.622,
          1782.877,
          1782.877,
          1925.553,
          2058.391,
          2058.391,
          1813.416,
          1813.416,
          1813.416,
          2505.27,
          1645.979,
          1645.979,
          1645.979,
          2728.015,
          1704.209,
          1344.988,
          2446.155,
          2474.028,
          1998.854,
          1353.518,
          1950.659,
          1950.659,
          1950.659,
          2684.039,
          2684.039,
          2684.039,
          2684.039,
          2149.28,
          2149.28,
          2063.897,
          2690.648,
          2649.305,
          1244.507,
          1469.973,
          1506.984,
          1506.984,
          2235.718,
          2235.718,
          2235.718,
          2235.718,
          2235.718,
          1925.431,
          1799.822,
          1517.806,
          1517.806,
          2088.587,
          2088.587,
          2088.587,
          1457.841,
          1381.929,
          1646.616,
          1646.616,
          1621.799,
          1621.799,
          1621.799,
          1304.064,
          1304.064
         ],
         "yaxis": "y"
        }
       ],
       "layout": {
        "legend": {
         "tracegroupgap": 0
        },
        "margin": {
         "t": 60
        },
        "template": {
         "data": {
          "bar": [
           {
            "error_x": {
             "color": "#2a3f5f"
            },
            "error_y": {
             "color": "#2a3f5f"
            },
            "marker": {
             "line": {
              "color": "#E5ECF6",
              "width": 0.5
             },
             "pattern": {
              "fillmode": "overlay",
              "size": 10,
              "solidity": 0.2
             }
            },
            "type": "bar"
           }
          ],
          "barpolar": [
           {
            "marker": {
             "line": {
              "color": "#E5ECF6",
              "width": 0.5
             },
             "pattern": {
              "fillmode": "overlay",
              "size": 10,
              "solidity": 0.2
             }
            },
            "type": "barpolar"
           }
          ],
          "carpet": [
           {
            "aaxis": {
             "endlinecolor": "#2a3f5f",
             "gridcolor": "white",
             "linecolor": "white",
             "minorgridcolor": "white",
             "startlinecolor": "#2a3f5f"
            },
            "baxis": {
             "endlinecolor": "#2a3f5f",
             "gridcolor": "white",
             "linecolor": "white",
             "minorgridcolor": "white",
             "startlinecolor": "#2a3f5f"
            },
            "type": "carpet"
           }
          ],
          "choropleth": [
           {
            "colorbar": {
             "outlinewidth": 0,
             "ticks": ""
            },
            "type": "choropleth"
           }
          ],
          "contour": [
           {
            "colorbar": {
             "outlinewidth": 0,
             "ticks": ""
            },
            "colorscale": [
             [
              0,
              "#0d0887"
             ],
             [
              0.1111111111111111,
              "#46039f"
             ],
             [
              0.2222222222222222,
              "#7201a8"
             ],
             [
              0.3333333333333333,
              "#9c179e"
             ],
             [
              0.4444444444444444,
              "#bd3786"
             ],
             [
              0.5555555555555556,
              "#d8576b"
             ],
             [
              0.6666666666666666,
              "#ed7953"
             ],
             [
              0.7777777777777778,
              "#fb9f3a"
             ],
             [
              0.8888888888888888,
              "#fdca26"
             ],
             [
              1,
              "#f0f921"
             ]
            ],
            "type": "contour"
           }
          ],
          "contourcarpet": [
           {
            "colorbar": {
             "outlinewidth": 0,
             "ticks": ""
            },
            "type": "contourcarpet"
           }
          ],
          "heatmap": [
           {
            "colorbar": {
             "outlinewidth": 0,
             "ticks": ""
            },
            "colorscale": [
             [
              0,
              "#0d0887"
             ],
             [
              0.1111111111111111,
              "#46039f"
             ],
             [
              0.2222222222222222,
              "#7201a8"
             ],
             [
              0.3333333333333333,
              "#9c179e"
             ],
             [
              0.4444444444444444,
              "#bd3786"
             ],
             [
              0.5555555555555556,
              "#d8576b"
             ],
             [
              0.6666666666666666,
              "#ed7953"
             ],
             [
              0.7777777777777778,
              "#fb9f3a"
             ],
             [
              0.8888888888888888,
              "#fdca26"
             ],
             [
              1,
              "#f0f921"
             ]
            ],
            "type": "heatmap"
           }
          ],
          "heatmapgl": [
           {
            "colorbar": {
             "outlinewidth": 0,
             "ticks": ""
            },
            "colorscale": [
             [
              0,
              "#0d0887"
             ],
             [
              0.1111111111111111,
              "#46039f"
             ],
             [
              0.2222222222222222,
              "#7201a8"
             ],
             [
              0.3333333333333333,
              "#9c179e"
             ],
             [
              0.4444444444444444,
              "#bd3786"
             ],
             [
              0.5555555555555556,
              "#d8576b"
             ],
             [
              0.6666666666666666,
              "#ed7953"
             ],
             [
              0.7777777777777778,
              "#fb9f3a"
             ],
             [
              0.8888888888888888,
              "#fdca26"
             ],
             [
              1,
              "#f0f921"
             ]
            ],
            "type": "heatmapgl"
           }
          ],
          "histogram": [
           {
            "marker": {
             "pattern": {
              "fillmode": "overlay",
              "size": 10,
              "solidity": 0.2
             }
            },
            "type": "histogram"
           }
          ],
          "histogram2d": [
           {
            "colorbar": {
             "outlinewidth": 0,
             "ticks": ""
            },
            "colorscale": [
             [
              0,
              "#0d0887"
             ],
             [
              0.1111111111111111,
              "#46039f"
             ],
             [
              0.2222222222222222,
              "#7201a8"
             ],
             [
              0.3333333333333333,
              "#9c179e"
             ],
             [
              0.4444444444444444,
              "#bd3786"
             ],
             [
              0.5555555555555556,
              "#d8576b"
             ],
             [
              0.6666666666666666,
              "#ed7953"
             ],
             [
              0.7777777777777778,
              "#fb9f3a"
             ],
             [
              0.8888888888888888,
              "#fdca26"
             ],
             [
              1,
              "#f0f921"
             ]
            ],
            "type": "histogram2d"
           }
          ],
          "histogram2dcontour": [
           {
            "colorbar": {
             "outlinewidth": 0,
             "ticks": ""
            },
            "colorscale": [
             [
              0,
              "#0d0887"
             ],
             [
              0.1111111111111111,
              "#46039f"
             ],
             [
              0.2222222222222222,
              "#7201a8"
             ],
             [
              0.3333333333333333,
              "#9c179e"
             ],
             [
              0.4444444444444444,
              "#bd3786"
             ],
             [
              0.5555555555555556,
              "#d8576b"
             ],
             [
              0.6666666666666666,
              "#ed7953"
             ],
             [
              0.7777777777777778,
              "#fb9f3a"
             ],
             [
              0.8888888888888888,
              "#fdca26"
             ],
             [
              1,
              "#f0f921"
             ]
            ],
            "type": "histogram2dcontour"
           }
          ],
          "mesh3d": [
           {
            "colorbar": {
             "outlinewidth": 0,
             "ticks": ""
            },
            "type": "mesh3d"
           }
          ],
          "parcoords": [
           {
            "line": {
             "colorbar": {
              "outlinewidth": 0,
              "ticks": ""
             }
            },
            "type": "parcoords"
           }
          ],
          "pie": [
           {
            "automargin": true,
            "type": "pie"
           }
          ],
          "scatter": [
           {
            "marker": {
             "colorbar": {
              "outlinewidth": 0,
              "ticks": ""
             }
            },
            "type": "scatter"
           }
          ],
          "scatter3d": [
           {
            "line": {
             "colorbar": {
              "outlinewidth": 0,
              "ticks": ""
             }
            },
            "marker": {
             "colorbar": {
              "outlinewidth": 0,
              "ticks": ""
             }
            },
            "type": "scatter3d"
           }
          ],
          "scattercarpet": [
           {
            "marker": {
             "colorbar": {
              "outlinewidth": 0,
              "ticks": ""
             }
            },
            "type": "scattercarpet"
           }
          ],
          "scattergeo": [
           {
            "marker": {
             "colorbar": {
              "outlinewidth": 0,
              "ticks": ""
             }
            },
            "type": "scattergeo"
           }
          ],
          "scattergl": [
           {
            "marker": {
             "colorbar": {
              "outlinewidth": 0,
              "ticks": ""
             }
            },
            "type": "scattergl"
           }
          ],
          "scattermapbox": [
           {
            "marker": {
             "colorbar": {
              "outlinewidth": 0,
              "ticks": ""
             }
            },
            "type": "scattermapbox"
           }
          ],
          "scatterpolar": [
           {
            "marker": {
             "colorbar": {
              "outlinewidth": 0,
              "ticks": ""
             }
            },
            "type": "scatterpolar"
           }
          ],
          "scatterpolargl": [
           {
            "marker": {
             "colorbar": {
              "outlinewidth": 0,
              "ticks": ""
             }
            },
            "type": "scatterpolargl"
           }
          ],
          "scatterternary": [
           {
            "marker": {
             "colorbar": {
              "outlinewidth": 0,
              "ticks": ""
             }
            },
            "type": "scatterternary"
           }
          ],
          "surface": [
           {
            "colorbar": {
             "outlinewidth": 0,
             "ticks": ""
            },
            "colorscale": [
             [
              0,
              "#0d0887"
             ],
             [
              0.1111111111111111,
              "#46039f"
             ],
             [
              0.2222222222222222,
              "#7201a8"
             ],
             [
              0.3333333333333333,
              "#9c179e"
             ],
             [
              0.4444444444444444,
              "#bd3786"
             ],
             [
              0.5555555555555556,
              "#d8576b"
             ],
             [
              0.6666666666666666,
              "#ed7953"
             ],
             [
              0.7777777777777778,
              "#fb9f3a"
             ],
             [
              0.8888888888888888,
              "#fdca26"
             ],
             [
              1,
              "#f0f921"
             ]
            ],
            "type": "surface"
           }
          ],
          "table": [
           {
            "cells": {
             "fill": {
              "color": "#EBF0F8"
             },
             "line": {
              "color": "white"
             }
            },
            "header": {
             "fill": {
              "color": "#C8D4E3"
             },
             "line": {
              "color": "white"
             }
            },
            "type": "table"
           }
          ]
         },
         "layout": {
          "annotationdefaults": {
           "arrowcolor": "#2a3f5f",
           "arrowhead": 0,
           "arrowwidth": 1
          },
          "autotypenumbers": "strict",
          "coloraxis": {
           "colorbar": {
            "outlinewidth": 0,
            "ticks": ""
           }
          },
          "colorscale": {
           "diverging": [
            [
             0,
             "#8e0152"
            ],
            [
             0.1,
             "#c51b7d"
            ],
            [
             0.2,
             "#de77ae"
            ],
            [
             0.3,
             "#f1b6da"
            ],
            [
             0.4,
             "#fde0ef"
            ],
            [
             0.5,
             "#f7f7f7"
            ],
            [
             0.6,
             "#e6f5d0"
            ],
            [
             0.7,
             "#b8e186"
            ],
            [
             0.8,
             "#7fbc41"
            ],
            [
             0.9,
             "#4d9221"
            ],
            [
             1,
             "#276419"
            ]
           ],
           "sequential": [
            [
             0,
             "#0d0887"
            ],
            [
             0.1111111111111111,
             "#46039f"
            ],
            [
             0.2222222222222222,
             "#7201a8"
            ],
            [
             0.3333333333333333,
             "#9c179e"
            ],
            [
             0.4444444444444444,
             "#bd3786"
            ],
            [
             0.5555555555555556,
             "#d8576b"
            ],
            [
             0.6666666666666666,
             "#ed7953"
            ],
            [
             0.7777777777777778,
             "#fb9f3a"
            ],
            [
             0.8888888888888888,
             "#fdca26"
            ],
            [
             1,
             "#f0f921"
            ]
           ],
           "sequentialminus": [
            [
             0,
             "#0d0887"
            ],
            [
             0.1111111111111111,
             "#46039f"
            ],
            [
             0.2222222222222222,
             "#7201a8"
            ],
            [
             0.3333333333333333,
             "#9c179e"
            ],
            [
             0.4444444444444444,
             "#bd3786"
            ],
            [
             0.5555555555555556,
             "#d8576b"
            ],
            [
             0.6666666666666666,
             "#ed7953"
            ],
            [
             0.7777777777777778,
             "#fb9f3a"
            ],
            [
             0.8888888888888888,
             "#fdca26"
            ],
            [
             1,
             "#f0f921"
            ]
           ]
          },
          "colorway": [
           "#636efa",
           "#EF553B",
           "#00cc96",
           "#ab63fa",
           "#FFA15A",
           "#19d3f3",
           "#FF6692",
           "#B6E880",
           "#FF97FF",
           "#FECB52"
          ],
          "font": {
           "color": "#2a3f5f"
          },
          "geo": {
           "bgcolor": "white",
           "lakecolor": "white",
           "landcolor": "#E5ECF6",
           "showlakes": true,
           "showland": true,
           "subunitcolor": "white"
          },
          "hoverlabel": {
           "align": "left"
          },
          "hovermode": "closest",
          "mapbox": {
           "style": "light"
          },
          "paper_bgcolor": "white",
          "plot_bgcolor": "#E5ECF6",
          "polar": {
           "angularaxis": {
            "gridcolor": "white",
            "linecolor": "white",
            "ticks": ""
           },
           "bgcolor": "#E5ECF6",
           "radialaxis": {
            "gridcolor": "white",
            "linecolor": "white",
            "ticks": ""
           }
          },
          "scene": {
           "xaxis": {
            "backgroundcolor": "#E5ECF6",
            "gridcolor": "white",
            "gridwidth": 2,
            "linecolor": "white",
            "showbackground": true,
            "ticks": "",
            "zerolinecolor": "white"
           },
           "yaxis": {
            "backgroundcolor": "#E5ECF6",
            "gridcolor": "white",
            "gridwidth": 2,
            "linecolor": "white",
            "showbackground": true,
            "ticks": "",
            "zerolinecolor": "white"
           },
           "zaxis": {
            "backgroundcolor": "#E5ECF6",
            "gridcolor": "white",
            "gridwidth": 2,
            "linecolor": "white",
            "showbackground": true,
            "ticks": "",
            "zerolinecolor": "white"
           }
          },
          "shapedefaults": {
           "line": {
            "color": "#2a3f5f"
           }
          },
          "ternary": {
           "aaxis": {
            "gridcolor": "white",
            "linecolor": "white",
            "ticks": ""
           },
           "baxis": {
            "gridcolor": "white",
            "linecolor": "white",
            "ticks": ""
           },
           "bgcolor": "#E5ECF6",
           "caxis": {
            "gridcolor": "white",
            "linecolor": "white",
            "ticks": ""
           }
          },
          "title": {
           "x": 0.05
          },
          "xaxis": {
           "automargin": true,
           "gridcolor": "white",
           "linecolor": "white",
           "ticks": "",
           "title": {
            "standoff": 15
           },
           "zerolinecolor": "white",
           "zerolinewidth": 2
          },
          "yaxis": {
           "automargin": true,
           "gridcolor": "white",
           "linecolor": "white",
           "ticks": "",
           "title": {
            "standoff": 15
           },
           "zerolinecolor": "white",
           "zerolinewidth": 2
          }
         }
        },
        "xaxis": {
         "anchor": "y",
         "domain": [
          0,
          1
         ],
         "title": {
          "text": "retention_time"
         }
        },
        "yaxis": {
         "anchor": "x",
         "domain": [
          0,
          1
         ],
         "title": {
          "text": "retention_index"
         }
        }
       }
      }
     },
     "metadata": {},
     "output_type": "display_data"
    }
   ],
   "source": [
    "fig = px.scatter(annotation_df, x=\"retention_time\", y=\"retention_index\", text=\"name\")\n",
    "fig.update_traces(textposition=\"bottom right\")\n",
    "\n",
    "fig.show()"
   ]
  },
  {
   "cell_type": "code",
   "execution_count": 10,
   "metadata": {},
   "outputs": [],
   "source": [
    "biswa_alkanes = PandasData(\"data/biswa_alkanes.tsv\", filetype=\"tsv\", rt_unit=\"min\")\n",
    "biswa_alkanes = pandas.DataFrame({ \"rt\":biswa_alkanes.retention_times, \"ri\": biswa_alkanes.retention_indices })"
   ]
  },
  {
   "cell_type": "code",
   "execution_count": 96,
   "metadata": {},
   "outputs": [
    {
     "name": "stderr",
     "output_type": "stream",
     "text": [
      "C:\\Users\\473355\\Miniconda3\\lib\\site-packages\\pandas\\core\\construction.py:564: UnitStrippedWarning:\n",
      "\n",
      "The unit of the quantity is stripped when downcasting to ndarray.\n",
      "\n"
     ]
    }
   ],
   "source": [
    "mtbls370_alkanes = PandasData(\"data/mtbls370_alkanes.csv\", filetype=\"csv\", rt_unit=\"min\")\n",
    "mtbls370_alkanes = pandas.DataFrame({ \"rt\": mtbls370_alkanes.retention_times, \"ri\": mtbls370_alkanes.retention_indices })"
   ]
  },
  {
   "cell_type": "code",
   "execution_count": 97,
   "metadata": {},
   "outputs": [],
   "source": [
    "n_alkanes = 17\n",
    "dbs_alkanes = PandasData(\"data/dbs_alkanes.tsv\", filetype=\"tsv\", rt_unit=\"min\")\n",
    "dbs_alkanes = pandas.DataFrame({ \"rt\": dbs_alkanes.retention_times[:n_alkanes], \"ri\": dbs_alkanes.retention_indices[:n_alkanes] })"
   ]
  },
  {
   "cell_type": "code",
   "execution_count": 3,
   "metadata": {},
   "outputs": [],
   "source": [
    "dbs_annotations = list(filter(lambda x: x.get(\"title\") != \"Unknown\", load_from_mgf(\"data/dbs_annotations.mgf\")))\n",
    "save_as_msp(dbs_annotations, \"data/dbs_annotations.msp\")"
   ]
  },
  {
   "cell_type": "code",
   "execution_count": 98,
   "metadata": {},
   "outputs": [],
   "source": [
    "common_annotations = {\n",
    "    #\"Succinic acid, 2TMS\": [[2.7424, 1303.341],[9.08, 1307.212057]],\n",
    "    \"Serine_3TMS\": [[2.929473, 1363.477], [9.61, 1378.274524]],\n",
    "    \"Aspartic Acid_3TMS\": [[3.421559, 1513.406], [10.75, 1548.64736]],\n",
    "    \"Xylose_4TMS\": [[3.886427, 1649.754], [11.43, 1661.375318]],\n",
    "    \"2-Deoxyglucose_4TMS\": [[4.338606, 1772.302], [12.08, 1776.88329]],\n",
    "    \"D27-Myristic acid_TMS\": [[4.52738, 1824.962], [12.32, 1821.454146]],\n",
    "    \"Fructose_5TMS\": [[4.669699, 1865.776], [12.62, 1878.628721]],\n",
    "    \"Sorbitol_6TMS\": [[4.89183, 1932.874], [12.9, 1933.458685]],\n",
    "    \"Palmitic acid_1TMS\": [[5.235894, 2042.023], [13.42, 2039.051952]],\n",
    "    \"Myo-inositol_6TMS\": [[5.368965, 2086.329], [13.65, 2087.321589]],\n",
    "    \"Stearic acid_1TMS\": [[5.789268, 2237.198], [14.33, 2235.661613]],\n",
    "    \"Sucrose_8TMS\": [[6.848479, 2629.458], [15.92, 2615.516127]]\n",
    "}"
   ]
  },
  {
   "cell_type": "code",
   "execution_count": 105,
   "metadata": {},
   "outputs": [
    {
     "data": {
      "application/vnd.plotly.v1+json": {
       "config": {
        "plotlyServerURL": "https://plot.ly"
       },
       "data": [
        {
         "mode": "lines",
         "name": "MTBLS370",
         "showlegend": true,
         "type": "scatter",
         "x": [
          355.79999999999995,
          491.4,
          626.4,
          763.8000000000001,
          850.2,
          967.8
         ],
         "y": [
          1000,
          1200,
          1500,
          1900,
          2200,
          2669.158716
         ]
        },
        {
         "mode": "lines",
         "name": "RCX",
         "showlegend": true,
         "type": "scatter",
         "x": [
          121.2,
          142.79999999999998,
          163.20000000000002,
          183,
          202.79999999999998,
          221.4,
          243,
          265.79999999999995,
          286.8,
          306,
          323.4,
          339.6,
          357.6,
          375.59999999999997,
          391.8,
          406.2,
          418.8
         ],
         "y": [
          1100,
          1200,
          1300,
          1400,
          1500,
          1600,
          1700,
          1800,
          1900,
          2000,
          2100,
          2200,
          2300,
          2400,
          2500,
          2600,
          2700
         ]
        }
       ],
       "layout": {
        "annotations": [
         {
          "arrowhead": 1,
          "showarrow": false,
          "text": "Serine_3TMS",
          "x": 376.18419,
          "y": 1363.477
         },
         {
          "arrowhead": 1,
          "ax": 451.18419,
          "axref": "x",
          "ay": 1363.477,
          "ayref": "y",
          "showarrow": true,
          "x": 576.5999999999999,
          "xref": "x",
          "y": 1378.274524,
          "yref": "y"
         },
         {
          "arrowhead": 1,
          "ax": 301.18419,
          "axref": "x",
          "ay": 1363.477,
          "ayref": "y",
          "showarrow": true,
          "x": 175.76838,
          "xref": "x",
          "y": 1363.477,
          "yref": "y"
         },
         {
          "arrowhead": 1,
          "showarrow": false,
          "text": "1363.477",
          "x": 130.76838,
          "y": 1363.477
         },
         {
          "arrowhead": 1,
          "showarrow": false,
          "text": "1378.274524",
          "x": 631.5999999999999,
          "y": 1378.274524
         },
         {
          "arrowhead": 1,
          "showarrow": false,
          "text": "Aspartic Acid_3TMS",
          "x": 425.14677,
          "y": 1513.406
         },
         {
          "arrowhead": 1,
          "ax": 500.14677,
          "axref": "x",
          "ay": 1513.406,
          "ayref": "y",
          "showarrow": true,
          "x": 645,
          "xref": "x",
          "y": 1548.64736,
          "yref": "y"
         },
         {
          "arrowhead": 1,
          "ax": 350.14677,
          "axref": "x",
          "ay": 1513.406,
          "ayref": "y",
          "showarrow": true,
          "x": 205.29353999999998,
          "xref": "x",
          "y": 1513.406,
          "yref": "y"
         },
         {
          "arrowhead": 1,
          "showarrow": false,
          "text": "1513.406",
          "x": 160.29353999999998,
          "y": 1513.406
         },
         {
          "arrowhead": 1,
          "showarrow": false,
          "text": "1548.64736",
          "x": 700,
          "y": 1548.64736
         },
         {
          "arrowhead": 1,
          "showarrow": false,
          "text": "Xylose_4TMS",
          "x": 459.49280999999996,
          "y": 1649.754
         },
         {
          "arrowhead": 1,
          "ax": 534.49281,
          "axref": "x",
          "ay": 1649.754,
          "ayref": "y",
          "showarrow": true,
          "x": 685.8,
          "xref": "x",
          "y": 1661.375318,
          "yref": "y"
         },
         {
          "arrowhead": 1,
          "ax": 384.49280999999996,
          "axref": "x",
          "ay": 1649.754,
          "ayref": "y",
          "showarrow": true,
          "x": 233.18562,
          "xref": "x",
          "y": 1649.754,
          "yref": "y"
         },
         {
          "arrowhead": 1,
          "showarrow": false,
          "text": "1649.754",
          "x": 188.18562,
          "y": 1649.754
         },
         {
          "arrowhead": 1,
          "showarrow": false,
          "text": "1661.375318",
          "x": 740.8,
          "y": 1661.375318
         },
         {
          "arrowhead": 1,
          "showarrow": false,
          "text": "2-Deoxyglucose_4TMS",
          "x": 492.55818,
          "y": 1772.302
         },
         {
          "arrowhead": 1,
          "ax": 567.55818,
          "axref": "x",
          "ay": 1772.302,
          "ayref": "y",
          "showarrow": true,
          "x": 724.8,
          "xref": "x",
          "y": 1776.88329,
          "yref": "y"
         },
         {
          "arrowhead": 1,
          "ax": 417.55818,
          "axref": "x",
          "ay": 1772.302,
          "ayref": "y",
          "showarrow": true,
          "x": 260.31636000000003,
          "xref": "x",
          "y": 1772.302,
          "yref": "y"
         },
         {
          "arrowhead": 1,
          "showarrow": false,
          "text": "1772.302",
          "x": 215.31636000000003,
          "y": 1772.302
         },
         {
          "arrowhead": 1,
          "showarrow": false,
          "text": "1776.88329",
          "x": 779.8,
          "y": 1776.88329
         },
         {
          "arrowhead": 1,
          "showarrow": false,
          "text": "D27-Myristic acid_TMS",
          "x": 505.42140000000006,
          "y": 1824.962
         },
         {
          "arrowhead": 1,
          "ax": 580.4214000000001,
          "axref": "x",
          "ay": 1824.962,
          "ayref": "y",
          "showarrow": true,
          "x": 739.2,
          "xref": "x",
          "y": 1821.454146,
          "yref": "y"
         },
         {
          "arrowhead": 1,
          "ax": 430.42140000000006,
          "axref": "x",
          "ay": 1824.962,
          "ayref": "y",
          "showarrow": true,
          "x": 271.6428,
          "xref": "x",
          "y": 1824.962,
          "yref": "y"
         },
         {
          "arrowhead": 1,
          "showarrow": false,
          "text": "1824.962",
          "x": 226.64280000000002,
          "y": 1824.962
         },
         {
          "arrowhead": 1,
          "showarrow": false,
          "text": "1821.454146",
          "x": 794.2,
          "y": 1821.454146
         },
         {
          "arrowhead": 1,
          "showarrow": false,
          "text": "Fructose_5TMS",
          "x": 518.69097,
          "y": 1865.776
         },
         {
          "arrowhead": 1,
          "ax": 593.69097,
          "axref": "x",
          "ay": 1865.776,
          "ayref": "y",
          "showarrow": true,
          "x": 757.1999999999999,
          "xref": "x",
          "y": 1878.628721,
          "yref": "y"
         },
         {
          "arrowhead": 1,
          "ax": 443.69097,
          "axref": "x",
          "ay": 1865.776,
          "ayref": "y",
          "showarrow": true,
          "x": 280.18194,
          "xref": "x",
          "y": 1865.776,
          "yref": "y"
         },
         {
          "arrowhead": 1,
          "showarrow": false,
          "text": "1865.776",
          "x": 235.18194,
          "y": 1865.776
         },
         {
          "arrowhead": 1,
          "showarrow": false,
          "text": "1878.628721",
          "x": 812.1999999999999,
          "y": 1878.628721
         },
         {
          "arrowhead": 1,
          "showarrow": false,
          "text": "Sorbitol_6TMS",
          "x": 533.7549,
          "y": 1932.874
         },
         {
          "arrowhead": 1,
          "ax": 608.7549,
          "axref": "x",
          "ay": 1932.874,
          "ayref": "y",
          "showarrow": true,
          "x": 774,
          "xref": "x",
          "y": 1933.458685,
          "yref": "y"
         },
         {
          "arrowhead": 1,
          "ax": 458.7549,
          "axref": "x",
          "ay": 1932.874,
          "ayref": "y",
          "showarrow": true,
          "x": 293.5098,
          "xref": "x",
          "y": 1932.874,
          "yref": "y"
         },
         {
          "arrowhead": 1,
          "showarrow": false,
          "text": "1932.874",
          "x": 248.50979999999998,
          "y": 1932.874
         },
         {
          "arrowhead": 1,
          "showarrow": false,
          "text": "1933.458685",
          "x": 829,
          "y": 1933.458685
         },
         {
          "arrowhead": 1,
          "showarrow": false,
          "text": "Palmitic acid_1TMS",
          "x": 559.67682,
          "y": 2042.023
         },
         {
          "arrowhead": 1,
          "ax": 634.67682,
          "axref": "x",
          "ay": 2042.023,
          "ayref": "y",
          "showarrow": true,
          "x": 805.2,
          "xref": "x",
          "y": 2039.051952,
          "yref": "y"
         },
         {
          "arrowhead": 1,
          "ax": 484.67682,
          "axref": "x",
          "ay": 2042.023,
          "ayref": "y",
          "showarrow": true,
          "x": 314.15364,
          "xref": "x",
          "y": 2042.023,
          "yref": "y"
         },
         {
          "arrowhead": 1,
          "showarrow": false,
          "text": "2042.023",
          "x": 269.15364,
          "y": 2042.023
         },
         {
          "arrowhead": 1,
          "showarrow": false,
          "text": "2039.051952",
          "x": 860.2,
          "y": 2039.051952
         },
         {
          "arrowhead": 1,
          "showarrow": false,
          "text": "Myo-inositol_6TMS",
          "x": 570.5689500000001,
          "y": 2086.329
         },
         {
          "arrowhead": 1,
          "ax": 645.5689500000001,
          "axref": "x",
          "ay": 2086.329,
          "ayref": "y",
          "showarrow": true,
          "x": 819,
          "xref": "x",
          "y": 2087.321589,
          "yref": "y"
         },
         {
          "arrowhead": 1,
          "ax": 495.5689500000001,
          "axref": "x",
          "ay": 2086.329,
          "ayref": "y",
          "showarrow": true,
          "x": 322.1379,
          "xref": "x",
          "y": 2086.329,
          "yref": "y"
         },
         {
          "arrowhead": 1,
          "showarrow": false,
          "text": "2086.329",
          "x": 277.1379,
          "y": 2086.329
         },
         {
          "arrowhead": 1,
          "showarrow": false,
          "text": "2087.321589",
          "x": 874,
          "y": 2087.321589
         },
         {
          "arrowhead": 1,
          "showarrow": false,
          "text": "Stearic acid_1TMS",
          "x": 603.57804,
          "y": 2237.198
         },
         {
          "arrowhead": 1,
          "ax": 678.57804,
          "axref": "x",
          "ay": 2237.198,
          "ayref": "y",
          "showarrow": true,
          "x": 859.8,
          "xref": "x",
          "y": 2235.661613,
          "yref": "y"
         },
         {
          "arrowhead": 1,
          "ax": 528.57804,
          "axref": "x",
          "ay": 2237.198,
          "ayref": "y",
          "showarrow": true,
          "x": 347.35608,
          "xref": "x",
          "y": 2237.198,
          "yref": "y"
         },
         {
          "arrowhead": 1,
          "showarrow": false,
          "text": "2237.198",
          "x": 302.35608,
          "y": 2237.198
         },
         {
          "arrowhead": 1,
          "showarrow": false,
          "text": "2235.661613",
          "x": 914.8,
          "y": 2235.661613
         },
         {
          "arrowhead": 1,
          "showarrow": false,
          "text": "Sucrose_8TMS",
          "x": 683.05437,
          "y": 2629.458
         },
         {
          "arrowhead": 1,
          "ax": 758.05437,
          "axref": "x",
          "ay": 2629.458,
          "ayref": "y",
          "showarrow": true,
          "x": 955.2,
          "xref": "x",
          "y": 2615.516127,
          "yref": "y"
         },
         {
          "arrowhead": 1,
          "ax": 608.05437,
          "axref": "x",
          "ay": 2629.458,
          "ayref": "y",
          "showarrow": true,
          "x": 410.90874,
          "xref": "x",
          "y": 2629.458,
          "yref": "y"
         },
         {
          "arrowhead": 1,
          "showarrow": false,
          "text": "2629.458",
          "x": 365.90874,
          "y": 2629.458
         },
         {
          "arrowhead": 1,
          "showarrow": false,
          "text": "2615.516127",
          "x": 1010.2,
          "y": 2615.516127
         }
        ],
        "height": 800,
        "hovermode": "x",
        "template": {
         "data": {
          "bar": [
           {
            "error_x": {
             "color": "#2a3f5f"
            },
            "error_y": {
             "color": "#2a3f5f"
            },
            "marker": {
             "line": {
              "color": "#E5ECF6",
              "width": 0.5
             }
            },
            "type": "bar"
           }
          ],
          "barpolar": [
           {
            "marker": {
             "line": {
              "color": "#E5ECF6",
              "width": 0.5
             }
            },
            "type": "barpolar"
           }
          ],
          "carpet": [
           {
            "aaxis": {
             "endlinecolor": "#2a3f5f",
             "gridcolor": "white",
             "linecolor": "white",
             "minorgridcolor": "white",
             "startlinecolor": "#2a3f5f"
            },
            "baxis": {
             "endlinecolor": "#2a3f5f",
             "gridcolor": "white",
             "linecolor": "white",
             "minorgridcolor": "white",
             "startlinecolor": "#2a3f5f"
            },
            "type": "carpet"
           }
          ],
          "choropleth": [
           {
            "colorbar": {
             "outlinewidth": 0,
             "ticks": ""
            },
            "type": "choropleth"
           }
          ],
          "contour": [
           {
            "colorbar": {
             "outlinewidth": 0,
             "ticks": ""
            },
            "colorscale": [
             [
              0,
              "#0d0887"
             ],
             [
              0.1111111111111111,
              "#46039f"
             ],
             [
              0.2222222222222222,
              "#7201a8"
             ],
             [
              0.3333333333333333,
              "#9c179e"
             ],
             [
              0.4444444444444444,
              "#bd3786"
             ],
             [
              0.5555555555555556,
              "#d8576b"
             ],
             [
              0.6666666666666666,
              "#ed7953"
             ],
             [
              0.7777777777777778,
              "#fb9f3a"
             ],
             [
              0.8888888888888888,
              "#fdca26"
             ],
             [
              1,
              "#f0f921"
             ]
            ],
            "type": "contour"
           }
          ],
          "contourcarpet": [
           {
            "colorbar": {
             "outlinewidth": 0,
             "ticks": ""
            },
            "type": "contourcarpet"
           }
          ],
          "heatmap": [
           {
            "colorbar": {
             "outlinewidth": 0,
             "ticks": ""
            },
            "colorscale": [
             [
              0,
              "#0d0887"
             ],
             [
              0.1111111111111111,
              "#46039f"
             ],
             [
              0.2222222222222222,
              "#7201a8"
             ],
             [
              0.3333333333333333,
              "#9c179e"
             ],
             [
              0.4444444444444444,
              "#bd3786"
             ],
             [
              0.5555555555555556,
              "#d8576b"
             ],
             [
              0.6666666666666666,
              "#ed7953"
             ],
             [
              0.7777777777777778,
              "#fb9f3a"
             ],
             [
              0.8888888888888888,
              "#fdca26"
             ],
             [
              1,
              "#f0f921"
             ]
            ],
            "type": "heatmap"
           }
          ],
          "heatmapgl": [
           {
            "colorbar": {
             "outlinewidth": 0,
             "ticks": ""
            },
            "colorscale": [
             [
              0,
              "#0d0887"
             ],
             [
              0.1111111111111111,
              "#46039f"
             ],
             [
              0.2222222222222222,
              "#7201a8"
             ],
             [
              0.3333333333333333,
              "#9c179e"
             ],
             [
              0.4444444444444444,
              "#bd3786"
             ],
             [
              0.5555555555555556,
              "#d8576b"
             ],
             [
              0.6666666666666666,
              "#ed7953"
             ],
             [
              0.7777777777777778,
              "#fb9f3a"
             ],
             [
              0.8888888888888888,
              "#fdca26"
             ],
             [
              1,
              "#f0f921"
             ]
            ],
            "type": "heatmapgl"
           }
          ],
          "histogram": [
           {
            "marker": {
             "colorbar": {
              "outlinewidth": 0,
              "ticks": ""
             }
            },
            "type": "histogram"
           }
          ],
          "histogram2d": [
           {
            "colorbar": {
             "outlinewidth": 0,
             "ticks": ""
            },
            "colorscale": [
             [
              0,
              "#0d0887"
             ],
             [
              0.1111111111111111,
              "#46039f"
             ],
             [
              0.2222222222222222,
              "#7201a8"
             ],
             [
              0.3333333333333333,
              "#9c179e"
             ],
             [
              0.4444444444444444,
              "#bd3786"
             ],
             [
              0.5555555555555556,
              "#d8576b"
             ],
             [
              0.6666666666666666,
              "#ed7953"
             ],
             [
              0.7777777777777778,
              "#fb9f3a"
             ],
             [
              0.8888888888888888,
              "#fdca26"
             ],
             [
              1,
              "#f0f921"
             ]
            ],
            "type": "histogram2d"
           }
          ],
          "histogram2dcontour": [
           {
            "colorbar": {
             "outlinewidth": 0,
             "ticks": ""
            },
            "colorscale": [
             [
              0,
              "#0d0887"
             ],
             [
              0.1111111111111111,
              "#46039f"
             ],
             [
              0.2222222222222222,
              "#7201a8"
             ],
             [
              0.3333333333333333,
              "#9c179e"
             ],
             [
              0.4444444444444444,
              "#bd3786"
             ],
             [
              0.5555555555555556,
              "#d8576b"
             ],
             [
              0.6666666666666666,
              "#ed7953"
             ],
             [
              0.7777777777777778,
              "#fb9f3a"
             ],
             [
              0.8888888888888888,
              "#fdca26"
             ],
             [
              1,
              "#f0f921"
             ]
            ],
            "type": "histogram2dcontour"
           }
          ],
          "mesh3d": [
           {
            "colorbar": {
             "outlinewidth": 0,
             "ticks": ""
            },
            "type": "mesh3d"
           }
          ],
          "parcoords": [
           {
            "line": {
             "colorbar": {
              "outlinewidth": 0,
              "ticks": ""
             }
            },
            "type": "parcoords"
           }
          ],
          "pie": [
           {
            "automargin": true,
            "type": "pie"
           }
          ],
          "scatter": [
           {
            "marker": {
             "colorbar": {
              "outlinewidth": 0,
              "ticks": ""
             }
            },
            "type": "scatter"
           }
          ],
          "scatter3d": [
           {
            "line": {
             "colorbar": {
              "outlinewidth": 0,
              "ticks": ""
             }
            },
            "marker": {
             "colorbar": {
              "outlinewidth": 0,
              "ticks": ""
             }
            },
            "type": "scatter3d"
           }
          ],
          "scattercarpet": [
           {
            "marker": {
             "colorbar": {
              "outlinewidth": 0,
              "ticks": ""
             }
            },
            "type": "scattercarpet"
           }
          ],
          "scattergeo": [
           {
            "marker": {
             "colorbar": {
              "outlinewidth": 0,
              "ticks": ""
             }
            },
            "type": "scattergeo"
           }
          ],
          "scattergl": [
           {
            "marker": {
             "colorbar": {
              "outlinewidth": 0,
              "ticks": ""
             }
            },
            "type": "scattergl"
           }
          ],
          "scattermapbox": [
           {
            "marker": {
             "colorbar": {
              "outlinewidth": 0,
              "ticks": ""
             }
            },
            "type": "scattermapbox"
           }
          ],
          "scatterpolar": [
           {
            "marker": {
             "colorbar": {
              "outlinewidth": 0,
              "ticks": ""
             }
            },
            "type": "scatterpolar"
           }
          ],
          "scatterpolargl": [
           {
            "marker": {
             "colorbar": {
              "outlinewidth": 0,
              "ticks": ""
             }
            },
            "type": "scatterpolargl"
           }
          ],
          "scatterternary": [
           {
            "marker": {
             "colorbar": {
              "outlinewidth": 0,
              "ticks": ""
             }
            },
            "type": "scatterternary"
           }
          ],
          "surface": [
           {
            "colorbar": {
             "outlinewidth": 0,
             "ticks": ""
            },
            "colorscale": [
             [
              0,
              "#0d0887"
             ],
             [
              0.1111111111111111,
              "#46039f"
             ],
             [
              0.2222222222222222,
              "#7201a8"
             ],
             [
              0.3333333333333333,
              "#9c179e"
             ],
             [
              0.4444444444444444,
              "#bd3786"
             ],
             [
              0.5555555555555556,
              "#d8576b"
             ],
             [
              0.6666666666666666,
              "#ed7953"
             ],
             [
              0.7777777777777778,
              "#fb9f3a"
             ],
             [
              0.8888888888888888,
              "#fdca26"
             ],
             [
              1,
              "#f0f921"
             ]
            ],
            "type": "surface"
           }
          ],
          "table": [
           {
            "cells": {
             "fill": {
              "color": "#EBF0F8"
             },
             "line": {
              "color": "white"
             }
            },
            "header": {
             "fill": {
              "color": "#C8D4E3"
             },
             "line": {
              "color": "white"
             }
            },
            "type": "table"
           }
          ]
         },
         "layout": {
          "annotationdefaults": {
           "arrowcolor": "#2a3f5f",
           "arrowhead": 0,
           "arrowwidth": 1
          },
          "autotypenumbers": "strict",
          "coloraxis": {
           "colorbar": {
            "outlinewidth": 0,
            "ticks": ""
           }
          },
          "colorscale": {
           "diverging": [
            [
             0,
             "#8e0152"
            ],
            [
             0.1,
             "#c51b7d"
            ],
            [
             0.2,
             "#de77ae"
            ],
            [
             0.3,
             "#f1b6da"
            ],
            [
             0.4,
             "#fde0ef"
            ],
            [
             0.5,
             "#f7f7f7"
            ],
            [
             0.6,
             "#e6f5d0"
            ],
            [
             0.7,
             "#b8e186"
            ],
            [
             0.8,
             "#7fbc41"
            ],
            [
             0.9,
             "#4d9221"
            ],
            [
             1,
             "#276419"
            ]
           ],
           "sequential": [
            [
             0,
             "#0d0887"
            ],
            [
             0.1111111111111111,
             "#46039f"
            ],
            [
             0.2222222222222222,
             "#7201a8"
            ],
            [
             0.3333333333333333,
             "#9c179e"
            ],
            [
             0.4444444444444444,
             "#bd3786"
            ],
            [
             0.5555555555555556,
             "#d8576b"
            ],
            [
             0.6666666666666666,
             "#ed7953"
            ],
            [
             0.7777777777777778,
             "#fb9f3a"
            ],
            [
             0.8888888888888888,
             "#fdca26"
            ],
            [
             1,
             "#f0f921"
            ]
           ],
           "sequentialminus": [
            [
             0,
             "#0d0887"
            ],
            [
             0.1111111111111111,
             "#46039f"
            ],
            [
             0.2222222222222222,
             "#7201a8"
            ],
            [
             0.3333333333333333,
             "#9c179e"
            ],
            [
             0.4444444444444444,
             "#bd3786"
            ],
            [
             0.5555555555555556,
             "#d8576b"
            ],
            [
             0.6666666666666666,
             "#ed7953"
            ],
            [
             0.7777777777777778,
             "#fb9f3a"
            ],
            [
             0.8888888888888888,
             "#fdca26"
            ],
            [
             1,
             "#f0f921"
            ]
           ]
          },
          "colorway": [
           "#636efa",
           "#EF553B",
           "#00cc96",
           "#ab63fa",
           "#FFA15A",
           "#19d3f3",
           "#FF6692",
           "#B6E880",
           "#FF97FF",
           "#FECB52"
          ],
          "font": {
           "color": "#2a3f5f"
          },
          "geo": {
           "bgcolor": "white",
           "lakecolor": "white",
           "landcolor": "#E5ECF6",
           "showlakes": true,
           "showland": true,
           "subunitcolor": "white"
          },
          "hoverlabel": {
           "align": "left"
          },
          "hovermode": "closest",
          "mapbox": {
           "style": "light"
          },
          "paper_bgcolor": "white",
          "plot_bgcolor": "#E5ECF6",
          "polar": {
           "angularaxis": {
            "gridcolor": "white",
            "linecolor": "white",
            "ticks": ""
           },
           "bgcolor": "#E5ECF6",
           "radialaxis": {
            "gridcolor": "white",
            "linecolor": "white",
            "ticks": ""
           }
          },
          "scene": {
           "xaxis": {
            "backgroundcolor": "#E5ECF6",
            "gridcolor": "white",
            "gridwidth": 2,
            "linecolor": "white",
            "showbackground": true,
            "ticks": "",
            "zerolinecolor": "white"
           },
           "yaxis": {
            "backgroundcolor": "#E5ECF6",
            "gridcolor": "white",
            "gridwidth": 2,
            "linecolor": "white",
            "showbackground": true,
            "ticks": "",
            "zerolinecolor": "white"
           },
           "zaxis": {
            "backgroundcolor": "#E5ECF6",
            "gridcolor": "white",
            "gridwidth": 2,
            "linecolor": "white",
            "showbackground": true,
            "ticks": "",
            "zerolinecolor": "white"
           }
          },
          "shapedefaults": {
           "line": {
            "color": "#2a3f5f"
           }
          },
          "ternary": {
           "aaxis": {
            "gridcolor": "white",
            "linecolor": "white",
            "ticks": ""
           },
           "baxis": {
            "gridcolor": "white",
            "linecolor": "white",
            "ticks": ""
           },
           "bgcolor": "#E5ECF6",
           "caxis": {
            "gridcolor": "white",
            "linecolor": "white",
            "ticks": ""
           }
          },
          "title": {
           "x": 0.05
          },
          "xaxis": {
           "automargin": true,
           "gridcolor": "white",
           "linecolor": "white",
           "ticks": "",
           "title": {
            "standoff": 15
           },
           "zerolinecolor": "white",
           "zerolinewidth": 2
          },
          "yaxis": {
           "automargin": true,
           "gridcolor": "white",
           "linecolor": "white",
           "ticks": "",
           "title": {
            "standoff": 15
           },
           "zerolinecolor": "white",
           "zerolinewidth": 2
          }
         }
        },
        "width": 1000,
        "xaxis": {
         "title": {
          "text": "Retention Time (s)"
         }
        },
        "yaxis": {
         "title": {
          "text": "Retention Index"
         }
        }
       }
      }
     },
     "metadata": {},
     "output_type": "display_data"
    }
   ],
   "source": [
    "fig = go.Figure([\n",
    "    go.Scatter(\n",
    "        name='MTBLS370',\n",
    "        x=mtbls370_alkanes['rt'],\n",
    "        y=mtbls370_alkanes['ri'],\n",
    "        mode='lines',\n",
    "        showlegend=True\n",
    "    ),\n",
    "    go.Scatter(\n",
    "        name='RCX',\n",
    "        x=dbs_alkanes['rt'],\n",
    "        y=dbs_alkanes['ri'],\n",
    "        mode='lines',\n",
    "        showlegend=True\n",
    "    )\n",
    "])\n",
    "\n",
    "for idx, key in enumerate(common_annotations):\n",
    "    value = common_annotations[key]\n",
    "    # fig.add_shape(\n",
    "    #     type=\"line\",\n",
    "    #     x0 = value[0][0] * 60.0,\n",
    "    #     y0 = value[0][1],\n",
    "    #     x1 = value[1][0] * 60.0,\n",
    "    #     y1 = value[1][1],\n",
    "    #     line=dict(color='Red', width=1, dash=\"dot\"),\n",
    "    # )\n",
    "    a = float(1.0 / len(common_annotations)) * idx\n",
    "    b = 1 - a\n",
    "    weighted_middle = (b * value[0][0] + a * value[1][0]) * 60.0\n",
    "    middle =  0.5 * (value[0][0] + value[1][0]) * 60.0\n",
    "    fig.add_annotation(\n",
    "        x = middle,\n",
    "        y = value[0][1],\n",
    "        text=key,\n",
    "        showarrow=False,\n",
    "        arrowhead=1)\n",
    "\n",
    "    start_x = value[0][0] * 60.0\n",
    "    start_y = value[0][1]\n",
    "\n",
    "    end_x = value[1][0] * 60\n",
    "    end_y = value[1][1]\n",
    "\n",
    "    diff_x = end_x - start_x\n",
    "    diff_y = end_y - start_y\n",
    "\n",
    "    fig.add_annotation(\n",
    "        ax = middle + 75,\n",
    "        ay = value[0][1],\n",
    "        x = end_x,\n",
    "        y = end_y,\n",
    "        xref=\"x\",\n",
    "        yref=\"y\",\n",
    "        axref=\"x\",\n",
    "        ayref=\"y\",\n",
    "        showarrow=True,\n",
    "        arrowhead=1)\n",
    "    \n",
    "    fig.add_annotation(\n",
    "        ax = middle - 75,\n",
    "        ay = value[0][1],\n",
    "        x = start_x,\n",
    "        y = start_y,\n",
    "        xref=\"x\",\n",
    "        yref=\"y\",\n",
    "        axref=\"x\",\n",
    "        ayref=\"y\",\n",
    "        showarrow=True,\n",
    "        arrowhead=1)\n",
    "\n",
    "    fig.add_annotation(\n",
    "        x = start_x-45,\n",
    "        y = start_y,\n",
    "        text = str(start_y),\n",
    "        showarrow=False,\n",
    "        arrowhead=1)\n",
    "\n",
    "    fig.add_annotation(\n",
    "        x = end_x+55,\n",
    "        y = end_y,\n",
    "        text = str(end_y),\n",
    "        showarrow=False,\n",
    "        arrowhead=1)\n",
    "    \n",
    "\n",
    "fig.update_layout(\n",
    "    yaxis_title='Retention Index',\n",
    "    xaxis_title='Retention Time (s)',\n",
    "    hovermode=\"x\",\n",
    "    height=800,\n",
    "    width=1000\n",
    ")\n",
    "fig.show()"
   ]
  }
 ],
 "metadata": {
  "interpreter": {
   "hash": "46cca01112b74c2899492c903f9b24063c3901415b70b1cb4030794003187956"
  },
  "kernelspec": {
   "display_name": "Python 3.8.10 64-bit ('matchms-dev': conda)",
   "language": "python",
   "name": "python3"
  },
  "language_info": {
   "codemirror_mode": {
    "name": "ipython",
    "version": 3
   },
   "file_extension": ".py",
   "mimetype": "text/x-python",
   "name": "python",
   "nbconvert_exporter": "python",
   "pygments_lexer": "ipython3",
   "version": "3.8.12"
  },
  "orig_nbformat": 4
 },
 "nbformat": 4,
 "nbformat_minor": 2
}
